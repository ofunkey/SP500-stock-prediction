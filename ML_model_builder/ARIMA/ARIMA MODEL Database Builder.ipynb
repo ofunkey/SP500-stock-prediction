{
 "cells": [
  {
   "cell_type": "markdown",
   "metadata": {},
   "source": [
    "# ARIMA model predicting future stock price"
   ]
  },
  {
   "cell_type": "markdown",
   "metadata": {},
   "source": [
    "### 0. Load Dependencies"
   ]
  },
  {
   "cell_type": "code",
   "execution_count": 137,
   "metadata": {},
   "outputs": [],
   "source": [
    "import warnings\n",
    "warnings.filterwarnings(\"ignore\")\n",
    "\n",
    "import numpy as np\n",
    "import pandas as pd\n",
    "import seaborn as sns\n",
    "import matplotlib.pyplot as plt\n",
    "from datetime import datetime, timedelta\n",
    "\n",
    "import sqlalchemy\n",
    "from sqlalchemy.ext.automap import automap_base\n",
    "from sqlalchemy.orm import Session\n",
    "from sqlalchemy import create_engine, func, inspect\n",
    "from sqlalchemy.types import Integer, Text, String, Float, Date\n",
    "\n",
    "from pandas.plotting import autocorrelation_plot\n",
    "from statsmodels.tsa.arima_model import ARIMA\n",
    "from statsmodels.graphics.tsaplots import plot_acf, plot_pacf\n",
    "from statsmodels.tsa.seasonal import seasonal_decompose\n",
    "from pmdarima.arima.utils import nsdiffs\n",
    "from pmdarima.arima.utils import ndiffs\n",
    "import pmdarima as pm\n",
    "from scipy.signal import find_peaks"
   ]
  },
  {
   "cell_type": "code",
   "execution_count": 138,
   "metadata": {},
   "outputs": [],
   "source": [
    "def plot_line(x, y, x_label = None, y_label = None, title = None):\n",
    "    plt.figure(figsize=(10, 4))\n",
    "    plt.plot(x, y, ls = '-')\n",
    "    plt.xlabel(x_label, fontsize = 13)\n",
    "    plt.ylabel(y_label, fontsize = 13)\n",
    "    plt.title(title, fontsize = 15)\n",
    "    plt.show()"
   ]
  },
  {
   "cell_type": "code",
   "execution_count": 139,
   "metadata": {},
   "outputs": [],
   "source": [
    "def abs2(x):\n",
    "    return x.real**2 + x.imag**2"
   ]
  },
  {
   "cell_type": "code",
   "execution_count": 140,
   "metadata": {},
   "outputs": [],
   "source": [
    "def next_month_end(time):\n",
    "    if time.month == 12:\n",
    "        y = time.year + 1\n",
    "        m = 2\n",
    "        return datetime(year = time.year + 1, month = 2, day = 1)- timedelta(days = 1)\n",
    "    elif time.month == 11:\n",
    "        y = time.year + 1\n",
    "        m = 1\n",
    "        return datetime(year = time.year + 1, month = 1, day = 1)- timedelta(days = 1)\n",
    "    else:\n",
    "        y = time.year\n",
    "        m = time.month + 2\n",
    "    return datetime(year = y, month = m, day = 1) - timedelta(days = 1)"
   ]
  },
  {
   "cell_type": "markdown",
   "metadata": {},
   "source": [
    "### 1. Load SQLite database"
   ]
  },
  {
   "cell_type": "code",
   "execution_count": 141,
   "metadata": {},
   "outputs": [],
   "source": [
    "#################################################\n",
    "# 1. Database Setup\n",
    "#################################################\n",
    "engine = create_engine(\"sqlite:///../data/CompanyData.sqlite\")\n",
    "\n",
    "# reflect an existing database into a new model\n",
    "Base = automap_base()\n",
    "# reflect the tables\n",
    "Base.prepare(engine, reflect=True)\n",
    "\n",
    "# Save reference to the table\n",
    "MasterData = Base.classes.MasterData\n",
    "QuintileMonthlyData = Base.classes.QuintileMonthlyData\n",
    "QuintileAvgData = Base.classes.QuintileAvgData"
   ]
  },
  {
   "cell_type": "code",
   "execution_count": 142,
   "metadata": {},
   "outputs": [
    {
     "name": "stdout",
     "output_type": "stream",
     "text": [
      "Table Names: \n",
      "['CurrentData', 'FinData2', 'Future6Mon', 'MasterData', 'MasterData_ML', 'PiecewiseARIMA', 'PriceData2', 'QuintileAvgData', 'QuintileMonthlyData', 'findata', 'monte_carlo', 'pricedata']\n"
     ]
    }
   ],
   "source": [
    "#################################################\n",
    "# 2. Tables\n",
    "#################################################\n",
    "# Create the inspector and connect it to the engine\n",
    "inspector = inspect(engine)\n",
    "# Collect the names of tables within the database\n",
    "print(\"Table Names: \")\n",
    "print(inspector.get_table_names())"
   ]
  },
  {
   "cell_type": "code",
   "execution_count": 143,
   "metadata": {},
   "outputs": [],
   "source": [
    "#################################################\n",
    "# 3. Columns and DataType\n",
    "#################################################\n",
    "# Using the inspector to print the column names within the 'dow' table and its types\n",
    "columns = inspector.get_columns('MasterData')\n",
    "# Column names and DataType\n",
    "df = pd.DataFrame({\"name\": [col['name'] for col in columns],\n",
    "                  \"type\": [col['type'] for col in columns]})"
   ]
  },
  {
   "cell_type": "code",
   "execution_count": 144,
   "metadata": {},
   "outputs": [
    {
     "data": {
      "text/html": [
       "<div>\n",
       "<style scoped>\n",
       "    .dataframe tbody tr th:only-of-type {\n",
       "        vertical-align: middle;\n",
       "    }\n",
       "\n",
       "    .dataframe tbody tr th {\n",
       "        vertical-align: top;\n",
       "    }\n",
       "\n",
       "    .dataframe thead th {\n",
       "        text-align: right;\n",
       "    }\n",
       "</style>\n",
       "<table border=\"1\" class=\"dataframe\">\n",
       "  <thead>\n",
       "    <tr style=\"text-align: right;\">\n",
       "      <th></th>\n",
       "      <th>name</th>\n",
       "      <th>type</th>\n",
       "    </tr>\n",
       "  </thead>\n",
       "  <tbody>\n",
       "    <tr>\n",
       "      <th>0</th>\n",
       "      <td>monthend_date</td>\n",
       "      <td>DATE</td>\n",
       "    </tr>\n",
       "    <tr>\n",
       "      <th>1</th>\n",
       "      <td>ticker</td>\n",
       "      <td>VARCHAR(8)</td>\n",
       "    </tr>\n",
       "    <tr>\n",
       "      <th>2</th>\n",
       "      <td>price</td>\n",
       "      <td>FLOAT</td>\n",
       "    </tr>\n",
       "    <tr>\n",
       "      <th>3</th>\n",
       "      <td>wealth_index</td>\n",
       "      <td>FLOAT</td>\n",
       "    </tr>\n",
       "    <tr>\n",
       "      <th>4</th>\n",
       "      <td>end_wealth_index</td>\n",
       "      <td>FLOAT</td>\n",
       "    </tr>\n",
       "  </tbody>\n",
       "</table>\n",
       "</div>"
      ],
      "text/plain": [
       "               name        type\n",
       "0     monthend_date        DATE\n",
       "1            ticker  VARCHAR(8)\n",
       "2             price       FLOAT\n",
       "3      wealth_index       FLOAT\n",
       "4  end_wealth_index       FLOAT"
      ]
     },
     "execution_count": 144,
     "metadata": {},
     "output_type": "execute_result"
    }
   ],
   "source": [
    "df.head()"
   ]
  },
  {
   "cell_type": "markdown",
   "metadata": {},
   "source": [
    "### 2. Extract price from Individual STOCK"
   ]
  },
  {
   "cell_type": "code",
   "execution_count": 145,
   "metadata": {},
   "outputs": [],
   "source": [
    "#################################################\n",
    "# 1. choose stock & query\n",
    "#################################################\n",
    "ticker = 'AMZN'#tickers[54]\n",
    "session = Session(engine)\n",
    "results = session.query(MasterData).filter(MasterData.ticker == ticker).all()"
   ]
  },
  {
   "cell_type": "code",
   "execution_count": 146,
   "metadata": {},
   "outputs": [
    {
     "data": {
      "text/html": [
       "<div>\n",
       "<style scoped>\n",
       "    .dataframe tbody tr th:only-of-type {\n",
       "        vertical-align: middle;\n",
       "    }\n",
       "\n",
       "    .dataframe tbody tr th {\n",
       "        vertical-align: top;\n",
       "    }\n",
       "\n",
       "    .dataframe thead th {\n",
       "        text-align: right;\n",
       "    }\n",
       "</style>\n",
       "<table border=\"1\" class=\"dataframe\">\n",
       "  <thead>\n",
       "    <tr style=\"text-align: right;\">\n",
       "      <th></th>\n",
       "      <th>date</th>\n",
       "      <th>wealth_ind</th>\n",
       "    </tr>\n",
       "  </thead>\n",
       "  <tbody>\n",
       "    <tr>\n",
       "      <th>0</th>\n",
       "      <td>2014-11-30</td>\n",
       "      <td>338.64</td>\n",
       "    </tr>\n",
       "    <tr>\n",
       "      <th>1</th>\n",
       "      <td>2014-12-31</td>\n",
       "      <td>310.35</td>\n",
       "    </tr>\n",
       "    <tr>\n",
       "      <th>2</th>\n",
       "      <td>2015-01-31</td>\n",
       "      <td>354.53</td>\n",
       "    </tr>\n",
       "    <tr>\n",
       "      <th>3</th>\n",
       "      <td>2015-02-28</td>\n",
       "      <td>380.16</td>\n",
       "    </tr>\n",
       "    <tr>\n",
       "      <th>4</th>\n",
       "      <td>2015-03-31</td>\n",
       "      <td>372.10</td>\n",
       "    </tr>\n",
       "  </tbody>\n",
       "</table>\n",
       "</div>"
      ],
      "text/plain": [
       "         date  wealth_ind\n",
       "0  2014-11-30      338.64\n",
       "1  2014-12-31      310.35\n",
       "2  2015-01-31      354.53\n",
       "3  2015-02-28      380.16\n",
       "4  2015-03-31      372.10"
      ]
     },
     "execution_count": 146,
     "metadata": {},
     "output_type": "execute_result"
    }
   ],
   "source": [
    "date = [res.monthend_date for res in results]\n",
    "wealth_ind = [res.wealth_index for res in results]\n",
    "end_wealth_ind = [res.end_wealth_index for res in results]\n",
    "total_return = [res.total_return for res in results]\n",
    "\n",
    "df = pd.DataFrame({'date': date, \n",
    "                   'wealth_ind': wealth_ind, \n",
    "                  })\n",
    "df.head()"
   ]
  },
  {
   "cell_type": "code",
   "execution_count": 147,
   "metadata": {},
   "outputs": [
    {
     "data": {
      "image/png": "[encoded data removed]",
      "text/plain": [
       "<Figure size 720x288 with 1 Axes>"
      ]
     },
     "metadata": {
      "needs_background": "light"
     },
     "output_type": "display_data"
    }
   ],
   "source": [
    "#################################################\n",
    "# 2. plot raw data\n",
    "#################################################\n",
    "plot_line(df.date, df.wealth_ind, 'Date','Wealth Index', None)"
   ]
  },
  {
   "cell_type": "markdown",
   "metadata": {},
   "source": [
    "## 3. Auto ARIMA -- SARIMA"
   ]
  },
  {
   "cell_type": "code",
   "execution_count": 12,
   "metadata": {
    "scrolled": true
   },
   "outputs": [
    {
     "name": "stdout",
     "output_type": "stream",
     "text": [
      "seasonality: 12\n"
     ]
    },
    {
     "data": {
      "image/png": "[encoded data removed]",
      "text/plain": [
       "<Figure size 432x288 with 4 Axes>"
      ]
     },
     "metadata": {
      "needs_background": "light"
     },
     "output_type": "display_data"
    }
   ],
   "source": [
    "#################################################\n",
    "# 1. find seasonality\n",
    "#################################################\n",
    "\n",
    "data = df.copy()\n",
    "data = data.set_index('date')\n",
    "data.index = pd.to_datetime(data.index)\n",
    "\n",
    "result = seasonal_decompose(data, model='multiplicative')\n",
    "\n",
    "# find periodicity in seasonal\n",
    "seasonal = result.seasonal['wealth_ind']\n",
    "fft = np.fft.rfft(seasonal, norm=\"ortho\")\n",
    "selfconvol=np.fft.irfft(abs2(fft), norm=\"ortho\")\n",
    "x, y = find_peaks(selfconvol, distance=6) \n",
    "\n",
    "season = 1 if x.size == 0 else x[1]\n",
    "seasonal = False if x.size == 0 else True\n",
    "\n",
    "print(f'seasonality: {season}')\n",
    "\n",
    "# plot seasonal decomposition\n",
    "result.plot()\n",
    "plt.show()"
   ]
  },
  {
   "cell_type": "code",
   "execution_count": 13,
   "metadata": {
    "scrolled": false
   },
   "outputs": [
    {
     "name": "stdout",
     "output_type": "stream",
     "text": [
      "ARIMA order:  (1, 2, 0) (0, 0, 0, 12)\r"
     ]
    },
    {
     "data": {
      "image/png": "[encoded data removed]",
      "text/plain": [
       "<Figure size 720x432 with 1 Axes>"
      ]
     },
     "metadata": {
      "needs_background": "light"
     },
     "output_type": "display_data"
    }
   ],
   "source": [
    "#################################################\n",
    "# 2. fit Auto_ARIMA with season -- dynamically ARIMA(p, d, q)(P, 12, Q)\n",
    "#################################################\n",
    "\n",
    "period = 12 if season ==1 else season\n",
    "history = [data[i: i+period] for i in range(len(data) - period + 1)]\n",
    "\n",
    "predict = []\n",
    "\n",
    "for h in history:\n",
    "    D = 0 if season == 1 else nsdiffs(h, m=12, max_D=season, test='ch') # determine seasonal D\n",
    "    pre_dict = {}\n",
    "    stepwise_model = pm.auto_arima(h, start_p=1, start_q=1,\n",
    "                                test='adf',\n",
    "                        max_p=3, max_q=3, m=season,\n",
    "                        start_P=0, seasonal=seasonal,\n",
    "                        d=None, D=D, trace=False,\n",
    "                        error_action='ignore',  \n",
    "                        suppress_warnings=True, \n",
    "                        stepwise=True)\n",
    "    print(\"ARIMA order: \", stepwise_model.order,stepwise_model.seasonal_order, end = '\\r')\n",
    "    model_fit = stepwise_model.fit(h)\n",
    "    p = model_fit.predict(n_periods = 1)\n",
    "    pre_dict['predict_time'] = next_month_end(h.index[-1])\n",
    "    pre_dict['price'] = p[0]\n",
    "    predict.append(pre_dict)\n",
    "\n",
    "#################################################\n",
    "# 3. plot comparison with historic data\n",
    "#################################################\n",
    "predict_time = list(data[period::].index) + list(data.tail(1).index + timedelta(days = 30))\n",
    "predict_price = [x['price'] for x in predict]\n",
    "plt.figure(figsize = (10,6))\n",
    "plt.plot(data,marker = 'o', label = 'history')\n",
    "plt.plot(predict_time, predict_price, label = 'predict')\n",
    "plt.legend(loc = 'best')\n",
    "plt.show()"
   ]
  },
  {
   "cell_type": "code",
   "execution_count": 14,
   "metadata": {},
   "outputs": [
    {
     "name": "stdout",
     "output_type": "stream",
     "text": [
      "ARIMA order:  (1, 1, 1) (0, 0, 0, 12)\r"
     ]
    },
    {
     "data": {
      "image/png": "[encoded data removed]",
      "text/plain": [
       "<Figure size 432x288 with 1 Axes>"
      ]
     },
     "metadata": {
      "needs_background": "light"
     },
     "output_type": "display_data"
    }
   ],
   "source": [
    "#################################################\n",
    "# 4. Forcast future 6 months\n",
    "#################################################\n",
    "n_periods = 6\n",
    "\n",
    "D = nsdiffs(h, m=season, max_D=12, test='ch') # determine seasonal D\n",
    "stepwise_model = pm.auto_arima(data, start_p=1, start_q=1,\n",
    "                               test='adf',\n",
    "                               max_p=3, max_q=3, m=season,\n",
    "                               start_P=0, seasonal=True,\n",
    "                               d=None, D=D, trace=False,\n",
    "                               error_action='ignore',  \n",
    "                               suppress_warnings=True, \n",
    "                               stepwise=True)\n",
    "print(\"ARIMA order: \", stepwise_model.order,stepwise_model.seasonal_order, end = '\\r')\n",
    "model_fit = stepwise_model.fit(data)\n",
    "\n",
    "fc, confint = stepwise_model.predict(n_periods=n_periods, return_conf_int=True)\n",
    "index_of_fc = np.arange(len(df.wealth_ind), len(df.wealth_ind)+n_periods)\n",
    "\n",
    "# make series for plotting purpose\n",
    "fc_series = pd.Series(fc, index=index_of_fc)\n",
    "lower_series = pd.Series(confint[:, 0], index=index_of_fc)\n",
    "upper_series = pd.Series(confint[:, 1], index=index_of_fc)\n",
    "\n",
    "# Plot\n",
    "plt.plot(df.wealth_ind)\n",
    "plt.plot(fc_series, color='darkgreen')\n",
    "plt.fill_between(lower_series.index, \n",
    "                 lower_series, \n",
    "                 upper_series, \n",
    "                 color='k', alpha=.15)\n",
    "\n",
    "plt.title(f\"{n_periods} months Forecast of {ticker}\")\n",
    "plt.show()"
   ]
  },
  {
   "cell_type": "code",
   "execution_count": 15,
   "metadata": {
    "scrolled": false
   },
   "outputs": [
    {
     "name": "stdout",
     "output_type": "stream",
     "text": [
      "Fit ARIMA: order=(1, 1, 1); AIC=691.654, BIC=699.826, Fit time=0.056 seconds\n",
      "Fit ARIMA: order=(0, 1, 0); AIC=692.345, BIC=696.431, Fit time=0.002 seconds\n",
      "Fit ARIMA: order=(1, 1, 0); AIC=691.772, BIC=697.901, Fit time=0.024 seconds\n",
      "Fit ARIMA: order=(0, 1, 1); AIC=691.710, BIC=697.840, Fit time=0.022 seconds\n",
      "Fit ARIMA: order=(2, 1, 1); AIC=692.783, BIC=702.998, Fit time=0.056 seconds\n",
      "Fit ARIMA: order=(1, 1, 2); AIC=692.904, BIC=703.120, Fit time=0.068 seconds\n",
      "Fit ARIMA: order=(2, 1, 2); AIC=695.654, BIC=707.912, Fit time=0.155 seconds\n",
      "Total fit time: 0.388 seconds\n",
      "\n",
      "                             ARIMA Model Results                              \n",
      "==============================================================================\n",
      "Dep. Variable:                    D.y   No. Observations:                   57\n",
      "Model:                 ARIMA(1, 1, 1)   Log Likelihood                -341.827\n",
      "Method:                       css-mle   S.D. of innovations             95.565\n",
      "Date:                Wed, 30 Oct 2019   AIC                            691.654\n",
      "Time:                        10:32:22   BIC                            699.826\n",
      "Sample:                             1   HQIC                           694.830\n",
      "                                                                              \n",
      "==============================================================================\n",
      "                 coef    std err          z      P>|z|      [0.025      0.975]\n",
      "------------------------------------------------------------------------------\n",
      "const         28.7052      2.952      9.723      0.000      22.919      34.492\n",
      "ar.L1.D.y      0.7819      0.092      8.530      0.000       0.602       0.962\n",
      "ma.L1.D.y     -1.0000      0.053    -18.758      0.000      -1.104      -0.896\n",
      "                                    Roots                                    \n",
      "=============================================================================\n",
      "                  Real          Imaginary           Modulus         Frequency\n",
      "-----------------------------------------------------------------------------\n",
      "AR.1            1.2789           +0.0000j            1.2789            0.0000\n",
      "MA.1            1.0000           +0.0000j            1.0000            0.0000\n",
      "-----------------------------------------------------------------------------\n"
     ]
    },
    {
     "data": {
      "image/png": "[encoded data removed]",
      "text/plain": [
       "<Figure size 504x360 with 4 Axes>"
      ]
     },
     "metadata": {
      "needs_background": "light"
     },
     "output_type": "display_data"
    }
   ],
   "source": [
    "## AUTO ARIMA\n",
    "model = pm.auto_arima(df.wealth_ind, start_p=1, start_q=1,\n",
    "                      test='adf',       # use adftest to find optimal 'd'\n",
    "                      max_p=5, max_q=5, # maximum p and q\n",
    "                      m=season,              # frequency of series\n",
    "                      d=None,           # let model determine 'd'\n",
    "                      seasonal=False,   # Include Seasonality\n",
    "                      start_P=0, \n",
    "                      D=0, \n",
    "                      trace=True,\n",
    "                      error_action='ignore',  \n",
    "                      suppress_warnings=True, \n",
    "                      stepwise=True)\n",
    "print()\n",
    "print(model.summary())\n",
    "\n",
    "model.plot_diagnostics(figsize=(7,5))\n",
    "plt.tight_layout()\n",
    "plt.show()"
   ]
  },
  {
   "cell_type": "markdown",
   "metadata": {},
   "source": [
    "# 3.1 Build Database"
   ]
  },
  {
   "cell_type": "code",
   "execution_count": 16,
   "metadata": {},
   "outputs": [],
   "source": [
    "# get all tickers\n",
    "session = Session(engine)\n",
    "result = session.query(MasterData.ticker).all()\n",
    "tickers = list(np.unique([x[0] for x in result]))"
   ]
  },
  {
   "cell_type": "code",
   "execution_count": 17,
   "metadata": {},
   "outputs": [
    {
     "data": {
      "text/html": [
       "<div>\n",
       "<style scoped>\n",
       "    .dataframe tbody tr th:only-of-type {\n",
       "        vertical-align: middle;\n",
       "    }\n",
       "\n",
       "    .dataframe tbody tr th {\n",
       "        vertical-align: top;\n",
       "    }\n",
       "\n",
       "    .dataframe thead th {\n",
       "        text-align: right;\n",
       "    }\n",
       "</style>\n",
       "<table border=\"1\" class=\"dataframe\">\n",
       "  <thead>\n",
       "    <tr style=\"text-align: right;\">\n",
       "      <th></th>\n",
       "      <th>ticker</th>\n",
       "      <th>future_6_mon</th>\n",
       "      <th>piecewise_arima</th>\n",
       "    </tr>\n",
       "  </thead>\n",
       "  <tbody>\n",
       "  </tbody>\n",
       "</table>\n",
       "</div>"
      ],
      "text/plain": [
       "Empty DataFrame\n",
       "Columns: [ticker, future_6_mon, piecewise_arima]\n",
       "Index: []"
      ]
     },
     "execution_count": 17,
     "metadata": {},
     "output_type": "execute_result"
    }
   ],
   "source": [
    "# create an empty DataFrame to store result\n",
    "ARIMA = pd.DataFrame(columns = [\"ticker\",'future_6_mon', 'piecewise_arima'])\n",
    "ARIMA"
   ]
  },
  {
   "cell_type": "code",
   "execution_count": null,
   "metadata": {
    "scrolled": false
   },
   "outputs": [],
   "source": [
    "for i in range(0,len(tickers)):\n",
    "    ticker = tickers[i]\n",
    "    # 1. get price\n",
    "    #################################################\n",
    "    results = session.query(MasterData).filter(MasterData.ticker == ticker).all()\n",
    "    date = [res.monthend_date for res in results]\n",
    "    \n",
    "    wealth_ind = [res.wealth_index for res in results]\n",
    "    \n",
    "    data = pd.DataFrame({'date': date, \n",
    "                   'wealth_ind': wealth_ind, \n",
    "                  })\n",
    "    \n",
    "    # 2. seasonality\n",
    "    #################################################\n",
    "    if len(date) <= 12:\n",
    "        continue\n",
    "    else:\n",
    "        data = data.set_index('date')\n",
    "        data.index = pd.to_datetime(data.index)\n",
    "        result = seasonal_decompose(data, model='multiplicative')\n",
    "\n",
    "        ### 2.1 find periodicity in seasonal\n",
    "        seasonal = result.seasonal['wealth_ind']\n",
    "        fft = np.fft.rfft(seasonal, norm=\"ortho\")\n",
    "        selfconvol=np.fft.irfft(abs2(fft), norm=\"ortho\")\n",
    "        x, y = find_peaks(selfconvol, distance=6) \n",
    "        season = 1 if x.size == 0 else x[1]\n",
    "        seasonal = False if x.size == 0 else True\n",
    "    \n",
    "    # 3. fit Auto_ARIMA with season -- dynamically ARIMA(p, d, q)(P, 12, Q)\n",
    "    #################################################\n",
    "        predict = []\n",
    "        period = 12 if season ==1 else season;\n",
    "        history = [data[i: i+period] for i in range(len(data) - period + 1)]\n",
    "\n",
    "        for h in history:\n",
    "            D = 0 if season == 1 else nsdiffs(h, m=12, max_D=season, test='ch') # determine seasonal D\n",
    "            pre_dict = {}\n",
    "            stepwise_model = pm.auto_arima(h, start_p=1, start_q=1,\n",
    "                                        test='adf',\n",
    "                                max_p=3, max_q=3, m=season,\n",
    "                                start_P=0, seasonal=seasonal,\n",
    "                                d=None, D=D, trace=False,\n",
    "                                error_action='ignore',  \n",
    "                                suppress_warnings=True, \n",
    "                                stepwise=True)\n",
    "            print(f\"Progress: {(tickers.index(ticker) + 1)} / {len(tickers)},\", ticker,\n",
    "                  \"step ARIMA order: \", \n",
    "                  stepwise_model.order,stepwise_model.seasonal_order,\"                              \", end = '\\r')\n",
    "            model_fit = stepwise_model.fit(h)\n",
    "            p = model_fit.predict(n_periods = 1)\n",
    "            pre_dict['predict_time'] = next_month_end(h.index[-1])\n",
    "            pre_dict['price'] = p[0]\n",
    "            predict.append(pre_dict)\n",
    "    \n",
    "\n",
    "    # 4. Forcast future 6 months\n",
    "    #################################################\n",
    "        n_periods = 6\n",
    "\n",
    "        D = 0 if season == 1 else nsdiffs(h, m=12, max_D=season, test='ch') # determine seasonal D\n",
    "        stepwise_model = pm.auto_arima(data, start_p=1, start_q=1,\n",
    "                                    test='adf',\n",
    "                                    max_p=3, max_q=3, m=season,\n",
    "                                    start_P=0, seasonal=seasonal,\n",
    "                                    d=None, D=D, trace=False,\n",
    "                                    error_action='ignore',  \n",
    "                                    suppress_warnings=True, \n",
    "                                    stepwise=True)\n",
    "        print(f\"Progress: {(tickers.index(ticker) + 1)} / {len(tickers)},\", \n",
    "              \"predict ARIMA order: \", \n",
    "              stepwise_model.order,stepwise_model.seasonal_order, \"                                  \", end = '\\r')\n",
    "        model_fit = stepwise_model.fit(data)\n",
    "\n",
    "        fc, confint = stepwise_model.predict(n_periods=n_periods, return_conf_int=True)\n",
    "\n",
    "        future_6_mon = []\n",
    "        latest_time_stamp = data.index[-1]\n",
    "        for i in range(len(fc)):\n",
    "            pre_dict = {}\n",
    "            latest_time_stamp = next_month_end(latest_time_stamp)\n",
    "            pre_dict['predict_time'] = datetime.date(latest_time_stamp).isoformat()\n",
    "            pre_dict['price'] = fc[i]\n",
    "            pre_dict['conf_int_lo'] = confint[i, 0]\n",
    "            pre_dict['conf_int_hi'] = confint[i, 1]\n",
    "            future_6_mon.append(pre_dict)\n",
    "    \n",
    "    # 5. Create local Dataframe and store to ARIMA (df)\n",
    "    #################################################\n",
    "        test = pd.DataFrame({\n",
    "        \"ticker\": ticker,\n",
    "        \"seasonality\": season,\n",
    "        \"future_6_mon\":[future_6_mon],\n",
    "        \"piecewise_arima\": [predict],\n",
    "        \"future_6_mon_model_order\": f\"{stepwise_model.order} {stepwise_model.seasonal_order}\"\n",
    "        })\n",
    "\n",
    "        ARIMA = ARIMA.append(test, ignore_index=True)\n",
    "    \n",
    "print(\"Done!                                                                                       \")"
   ]
  },
  {
   "cell_type": "code",
   "execution_count": 25,
   "metadata": {},
   "outputs": [
    {
     "data": {
      "text/html": [
       "<div>\n",
       "<style scoped>\n",
       "    .dataframe tbody tr th:only-of-type {\n",
       "        vertical-align: middle;\n",
       "    }\n",
       "\n",
       "    .dataframe tbody tr th {\n",
       "        vertical-align: top;\n",
       "    }\n",
       "\n",
       "    .dataframe thead th {\n",
       "        text-align: right;\n",
       "    }\n",
       "</style>\n",
       "<table border=\"1\" class=\"dataframe\">\n",
       "  <thead>\n",
       "    <tr style=\"text-align: right;\">\n",
       "      <th></th>\n",
       "      <th>future_6_mon</th>\n",
       "      <th>future_6_mon_model_order</th>\n",
       "      <th>piecewise_arima</th>\n",
       "      <th>seasonality</th>\n",
       "      <th>ticker</th>\n",
       "    </tr>\n",
       "  </thead>\n",
       "  <tbody>\n",
       "    <tr>\n",
       "      <th>0</th>\n",
       "      <td>[{'predict_time': '2019-09-30', 'price': 71.32...</td>\n",
       "      <td>(1, 1, 0) (0, 0, 0, 12)</td>\n",
       "      <td>[{'predict_time': 2015-12-31 00:00:00, 'price'...</td>\n",
       "      <td>12.0</td>\n",
       "      <td>A</td>\n",
       "    </tr>\n",
       "    <tr>\n",
       "      <th>1</th>\n",
       "      <td>[{'predict_time': '2019-09-30', 'price': 26.90...</td>\n",
       "      <td>(1, 1, 0) (0, 0, 0, 24)</td>\n",
       "      <td>[{'predict_time': 2016-11-30 00:00:00, 'price'...</td>\n",
       "      <td>24.0</td>\n",
       "      <td>AAL</td>\n",
       "    </tr>\n",
       "    <tr>\n",
       "      <th>2</th>\n",
       "      <td>[{'predict_time': '2019-09-30', 'price': 137.1...</td>\n",
       "      <td>(0, 2, 1) (0, 0, 0, 12)</td>\n",
       "      <td>[{'predict_time': 2015-11-30 00:00:00, 'price'...</td>\n",
       "      <td>12.0</td>\n",
       "      <td>AAP</td>\n",
       "    </tr>\n",
       "    <tr>\n",
       "      <th>3</th>\n",
       "      <td>[{'predict_time': '2019-09-30', 'price': 210.4...</td>\n",
       "      <td>(0, 1, 0) (0, 0, 0, 12)</td>\n",
       "      <td>[{'predict_time': 2015-11-30 00:00:00, 'price'...</td>\n",
       "      <td>12.0</td>\n",
       "      <td>AAPL</td>\n",
       "    </tr>\n",
       "    <tr>\n",
       "      <th>4</th>\n",
       "      <td>[{'predict_time': '2019-09-30', 'price': 65.27...</td>\n",
       "      <td>(0, 2, 1) (0, 0, 0, 12)</td>\n",
       "      <td>[{'predict_time': 2015-11-30 00:00:00, 'price'...</td>\n",
       "      <td>12.0</td>\n",
       "      <td>ABBV</td>\n",
       "    </tr>\n",
       "  </tbody>\n",
       "</table>\n",
       "</div>"
      ],
      "text/plain": [
       "                                        future_6_mon future_6_mon_model_order  \\\n",
       "0  [{'predict_time': '2019-09-30', 'price': 71.32...  (1, 1, 0) (0, 0, 0, 12)   \n",
       "1  [{'predict_time': '2019-09-30', 'price': 26.90...  (1, 1, 0) (0, 0, 0, 24)   \n",
       "2  [{'predict_time': '2019-09-30', 'price': 137.1...  (0, 2, 1) (0, 0, 0, 12)   \n",
       "3  [{'predict_time': '2019-09-30', 'price': 210.4...  (0, 1, 0) (0, 0, 0, 12)   \n",
       "4  [{'predict_time': '2019-09-30', 'price': 65.27...  (0, 2, 1) (0, 0, 0, 12)   \n",
       "\n",
       "                                     piecewise_arima  seasonality ticker  \n",
       "0  [{'predict_time': 2015-12-31 00:00:00, 'price'...         12.0      A  \n",
       "1  [{'predict_time': 2016-11-30 00:00:00, 'price'...         24.0    AAL  \n",
       "2  [{'predict_time': 2015-11-30 00:00:00, 'price'...         12.0    AAP  \n",
       "3  [{'predict_time': 2015-11-30 00:00:00, 'price'...         12.0   AAPL  \n",
       "4  [{'predict_time': 2015-11-30 00:00:00, 'price'...         12.0   ABBV  "
      ]
     },
     "execution_count": 25,
     "metadata": {},
     "output_type": "execute_result"
    }
   ],
   "source": [
    "ARIMA_TABLE = ARIMA.copy()\n",
    "ARIMA_TABLE.head()"
   ]
  },
  {
   "cell_type": "markdown",
   "metadata": {},
   "source": [
    "## 3.2 Restructure in DataFrames, prepare for storage in SQLite Database"
   ]
  },
  {
   "cell_type": "markdown",
   "metadata": {},
   "source": [
    "### 3.2.1 Future 6 month prediction"
   ]
  },
  {
   "cell_type": "code",
   "execution_count": 93,
   "metadata": {},
   "outputs": [
    {
     "name": "stdout",
     "output_type": "stream",
     "text": [
      "Done!     \n"
     ]
    }
   ],
   "source": [
    "# 1. create an empty DataFrame\n",
    "future_6_mon_df = pd.DataFrame(columns = [\"ticker\",'seasonality',\n",
    "                                          'predict_time', 'predict_price',\n",
    "                                          'predict_confin_lo','predict_confin_hi',\n",
    "                                          'future_6_mon_model_order'])\n",
    "# 2. Loop through ARIMA_TABLE, and store data in df\n",
    "for i in range(0,len(ARIMA_TABLE)):\n",
    "    ticker = ARIMA_TABLE.iloc[i].ticker\n",
    "\n",
    "    # Future 6 month\n",
    "    seasonality = ARIMA_TABLE.iloc[i].seasonality\n",
    "    model_order = ARIMA_TABLE.iloc[i].future_6_mon_model_order\n",
    "    future_6_mon = ARIMA_TABLE.iloc[i].future_6_mon\n",
    "    predict_time = [x[\"predict_time\"] for x in future_6_mon]\n",
    "    predict_price = [x[\"price\"] for x in future_6_mon]\n",
    "    predict_confin_lo = [x[\"conf_int_lo\"] for x in future_6_mon]\n",
    "    predict_confin_hi = [x[\"conf_int_hi\"] for x in future_6_mon]\n",
    "\n",
    "    temp = pd.DataFrame({'ticker': [ticker] * len(predict_time),\n",
    "                         'seasonality': seasonality,\n",
    "                         'predict_time': predict_time,\n",
    "                         'predict_price':predict_price,\n",
    "                         'predict_confin_lo': predict_confin_lo,\n",
    "                         'predict_confin_hi': predict_confin_hi,\n",
    "                         'future_6_mon_model_order': [model_order] * len(predict_time)\n",
    "                        })\n",
    "    future_6_mon_df = future_6_mon_df.append(temp, ignore_index=True)\n",
    "    print(f\"{i}/{len(ARIMA_TABLE)}\",end = \"\\r\")\n",
    "future_6_mon_df.seasonality = future_6_mon_df.seasonality.astype('int64') \n",
    "print(\"Done!     \")"
   ]
  },
  {
   "cell_type": "code",
   "execution_count": 117,
   "metadata": {},
   "outputs": [
    {
     "data": {
      "text/html": [
       "<div>\n",
       "<style scoped>\n",
       "    .dataframe tbody tr th:only-of-type {\n",
       "        vertical-align: middle;\n",
       "    }\n",
       "\n",
       "    .dataframe tbody tr th {\n",
       "        vertical-align: top;\n",
       "    }\n",
       "\n",
       "    .dataframe thead th {\n",
       "        text-align: right;\n",
       "    }\n",
       "</style>\n",
       "<table border=\"1\" class=\"dataframe\">\n",
       "  <thead>\n",
       "    <tr style=\"text-align: right;\">\n",
       "      <th></th>\n",
       "      <th>ticker</th>\n",
       "      <th>seasonality</th>\n",
       "      <th>predict_time</th>\n",
       "      <th>predict_price</th>\n",
       "      <th>predict_confin_lo</th>\n",
       "      <th>predict_confin_hi</th>\n",
       "      <th>future_6_mon_model_order</th>\n",
       "    </tr>\n",
       "  </thead>\n",
       "  <tbody>\n",
       "    <tr>\n",
       "      <th>2929</th>\n",
       "      <td>ZTS</td>\n",
       "      <td>12</td>\n",
       "      <td>2019-10-31</td>\n",
       "      <td>128.262975</td>\n",
       "      <td>118.657478</td>\n",
       "      <td>137.868473</td>\n",
       "      <td>(0, 1, 0) (0, 0, 1, 12)</td>\n",
       "    </tr>\n",
       "    <tr>\n",
       "      <th>2930</th>\n",
       "      <td>ZTS</td>\n",
       "      <td>12</td>\n",
       "      <td>2019-11-30</td>\n",
       "      <td>129.757783</td>\n",
       "      <td>117.993499</td>\n",
       "      <td>141.522067</td>\n",
       "      <td>(0, 1, 0) (0, 0, 1, 12)</td>\n",
       "    </tr>\n",
       "    <tr>\n",
       "      <th>2931</th>\n",
       "      <td>ZTS</td>\n",
       "      <td>12</td>\n",
       "      <td>2019-12-31</td>\n",
       "      <td>128.193374</td>\n",
       "      <td>114.609174</td>\n",
       "      <td>141.777574</td>\n",
       "      <td>(0, 1, 0) (0, 0, 1, 12)</td>\n",
       "    </tr>\n",
       "    <tr>\n",
       "      <th>2932</th>\n",
       "      <td>ZTS</td>\n",
       "      <td>12</td>\n",
       "      <td>2020-01-31</td>\n",
       "      <td>129.138717</td>\n",
       "      <td>113.951137</td>\n",
       "      <td>144.326297</td>\n",
       "      <td>(0, 1, 0) (0, 0, 1, 12)</td>\n",
       "    </tr>\n",
       "    <tr>\n",
       "      <th>2933</th>\n",
       "      <td>ZTS</td>\n",
       "      <td>12</td>\n",
       "      <td>2020-02-29</td>\n",
       "      <td>132.468758</td>\n",
       "      <td>115.831610</td>\n",
       "      <td>149.105906</td>\n",
       "      <td>(0, 1, 0) (0, 0, 1, 12)</td>\n",
       "    </tr>\n",
       "  </tbody>\n",
       "</table>\n",
       "</div>"
      ],
      "text/plain": [
       "     ticker  seasonality predict_time  predict_price  predict_confin_lo  \\\n",
       "2929    ZTS           12   2019-10-31     128.262975         118.657478   \n",
       "2930    ZTS           12   2019-11-30     129.757783         117.993499   \n",
       "2931    ZTS           12   2019-12-31     128.193374         114.609174   \n",
       "2932    ZTS           12   2020-01-31     129.138717         113.951137   \n",
       "2933    ZTS           12   2020-02-29     132.468758         115.831610   \n",
       "\n",
       "      predict_confin_hi future_6_mon_model_order  \n",
       "2929         137.868473  (0, 1, 0) (0, 0, 1, 12)  \n",
       "2930         141.522067  (0, 1, 0) (0, 0, 1, 12)  \n",
       "2931         141.777574  (0, 1, 0) (0, 0, 1, 12)  \n",
       "2932         144.326297  (0, 1, 0) (0, 0, 1, 12)  \n",
       "2933         149.105906  (0, 1, 0) (0, 0, 1, 12)  "
      ]
     },
     "execution_count": 117,
     "metadata": {},
     "output_type": "execute_result"
    }
   ],
   "source": [
    "future_6_mon_df.tail()"
   ]
  },
  {
   "cell_type": "markdown",
   "metadata": {},
   "source": [
    "### 3.2.2 Piecewise ARIMA prediction"
   ]
  },
  {
   "cell_type": "code",
   "execution_count": 105,
   "metadata": {},
   "outputs": [
    {
     "name": "stdout",
     "output_type": "stream",
     "text": [
      "Done!     \n"
     ]
    }
   ],
   "source": [
    "# 1. create an empty DataFrame\n",
    "piecewise_arima_df = pd.DataFrame(columns = [\"ticker\",'predict_time', 'predict_price'])\n",
    "\n",
    "# 2. Loop through ARIMA_TABLE, and store data in df\n",
    "for i in range(0,len(ARIMA_TABLE)):\n",
    "    ticker = ARIMA_TABLE.iloc[i].ticker\n",
    "    \n",
    "    # piecewise ARIMA\n",
    "    piecewise_arima = ARIMA_TABLE.iloc[i].piecewise_arima\n",
    "    predict_time_piecewise_arima = [x['predict_time'].strftime(\"%Y-%m-%d\") for x in piecewise_arima]\n",
    "    predict_price_piecewise_arima = [x['price'] for x in piecewise_arima]\n",
    "\n",
    "    temp = pd.DataFrame({'ticker': [ticker] * len(predict_time_piecewise_arima),\n",
    "                                     'predict_time': predict_time_piecewise_arima,\n",
    "                                     'predict_price':predict_price_piecewise_arima\n",
    "                                    })\n",
    "    piecewise_arima_df = piecewise_arima_df.append(temp)\n",
    "    print(f\"{i}/{len(ARIMA_TABLE)}\",end = \"\\r\")\n",
    "print(\"Done!     \")"
   ]
  },
  {
   "cell_type": "code",
   "execution_count": 106,
   "metadata": {
    "scrolled": true
   },
   "outputs": [
    {
     "data": {
      "text/html": [
       "<div>\n",
       "<style scoped>\n",
       "    .dataframe tbody tr th:only-of-type {\n",
       "        vertical-align: middle;\n",
       "    }\n",
       "\n",
       "    .dataframe tbody tr th {\n",
       "        vertical-align: top;\n",
       "    }\n",
       "\n",
       "    .dataframe thead th {\n",
       "        text-align: right;\n",
       "    }\n",
       "</style>\n",
       "<table border=\"1\" class=\"dataframe\">\n",
       "  <thead>\n",
       "    <tr style=\"text-align: right;\">\n",
       "      <th></th>\n",
       "      <th>ticker</th>\n",
       "      <th>predict_time</th>\n",
       "      <th>predict_price</th>\n",
       "    </tr>\n",
       "  </thead>\n",
       "  <tbody>\n",
       "    <tr>\n",
       "      <th>0</th>\n",
       "      <td>A</td>\n",
       "      <td>2015-12-31</td>\n",
       "      <td>41.574394</td>\n",
       "    </tr>\n",
       "    <tr>\n",
       "      <th>1</th>\n",
       "      <td>A</td>\n",
       "      <td>2016-01-31</td>\n",
       "      <td>40.948351</td>\n",
       "    </tr>\n",
       "    <tr>\n",
       "      <th>2</th>\n",
       "      <td>A</td>\n",
       "      <td>2016-02-29</td>\n",
       "      <td>36.231586</td>\n",
       "    </tr>\n",
       "    <tr>\n",
       "      <th>3</th>\n",
       "      <td>A</td>\n",
       "      <td>2016-03-31</td>\n",
       "      <td>35.926956</td>\n",
       "    </tr>\n",
       "    <tr>\n",
       "      <th>4</th>\n",
       "      <td>A</td>\n",
       "      <td>2016-04-30</td>\n",
       "      <td>39.386925</td>\n",
       "    </tr>\n",
       "  </tbody>\n",
       "</table>\n",
       "</div>"
      ],
      "text/plain": [
       "  ticker predict_time  predict_price\n",
       "0      A   2015-12-31      41.574394\n",
       "1      A   2016-01-31      40.948351\n",
       "2      A   2016-02-29      36.231586\n",
       "3      A   2016-03-31      35.926956\n",
       "4      A   2016-04-30      39.386925"
      ]
     },
     "execution_count": 106,
     "metadata": {},
     "output_type": "execute_result"
    }
   ],
   "source": [
    "piecewise_arima_df.head()"
   ]
  },
  {
   "cell_type": "markdown",
   "metadata": {},
   "source": [
    "## 3.3 Store in SQLite Database"
   ]
  },
  {
   "cell_type": "code",
   "execution_count": 130,
   "metadata": {},
   "outputs": [],
   "source": [
    "create_Future6Mon_sql = 'CREATE TABLE \"Future6Mon\" (' + \\\n",
    "    'ticker VARCHAR(8), ' + \\\n",
    "    'seasonality INT, ' + \\\n",
    "    'predict_time DATE, ' + \\\n",
    "    'predict_price FLOAT, ' + \\\n",
    "    'predict_confin_lo FLOAT, ' + \\\n",
    "    'predict_confin_hi FLOAT, ' + \\\n",
    "    'future_6_mon_model_order VARCHAR(30), ' + \\\n",
    "    'PRIMARY KEY (predict_time, ticker));'"
   ]
  },
  {
   "cell_type": "code",
   "execution_count": 131,
   "metadata": {},
   "outputs": [],
   "source": [
    "create_PiecewiseARIMA_sql = 'CREATE TABLE \"PiecewiseARIMA\" (' + \\\n",
    "    'ticker VARCHAR(8), ' + \\\n",
    "    'predict_time DATE, ' + \\\n",
    "    'predict_price FLOAT, ' + \\\n",
    "    'PRIMARY KEY (predict_time, ticker));'"
   ]
  },
  {
   "cell_type": "code",
   "execution_count": 133,
   "metadata": {},
   "outputs": [
    {
     "data": {
      "text/plain": [
       "<sqlalchemy.engine.result.ResultProxy at 0x131acada0>"
      ]
     },
     "execution_count": 133,
     "metadata": {},
     "output_type": "execute_result"
    }
   ],
   "source": [
    "#To write this dataframe to an SQL table with any keys, do the following\n",
    "# Use the \"df.to_sql\" to write the dataframe to an SQL table with a temporary name\n",
    "\n",
    "# Delete the Temp table if it exists\n",
    "# sql_stmt = \"DROP TABLE Temp\"\n",
    "# engine.execute(sql_stmt)\n",
    "\n",
    "# Now, write the dataframe to the SQL table\n",
    "future_6_mon_df.to_sql('Temp', con=engine, if_exists='replace', index=False)\n",
    "\n",
    "# Drop any existing \"Future6Mon\" table, the one that will contain the data and index\n",
    "sql_stmt = \"DROP TABLE Future6Mon\"\n",
    "engine.execute(sql_stmt)\n",
    "\n",
    "# Create the table.  It will be empty\n",
    "engine.execute(create_Future6Mon_sql)\n",
    "\n",
    "# Now copy the data from the Temp table into the New table\n",
    "sql_stmt = \"INSERT INTO Future6Mon SELECT * FROM Temp\"\n",
    "engine.execute(sql_stmt)\n",
    "\n",
    "# Delete the Temp table\n",
    "sql_stmt = \"DROP TABLE Temp\"\n",
    "engine.execute(sql_stmt)"
   ]
  },
  {
   "cell_type": "code",
   "execution_count": 135,
   "metadata": {},
   "outputs": [
    {
     "data": {
      "text/plain": [
       "<sqlalchemy.engine.result.ResultProxy at 0x1315e0710>"
      ]
     },
     "execution_count": 135,
     "metadata": {},
     "output_type": "execute_result"
    }
   ],
   "source": [
    "# Now, write the dataframe to the SQL table\n",
    "piecewise_arima_df.to_sql('Temp', con=engine, if_exists='replace', index=False)\n",
    "\n",
    "# Drop any existing \"Future6Mon\" table, the one that will contain the data and index\n",
    "sql_stmt = \"DROP TABLE PiecewiseARIMA\"\n",
    "engine.execute(sql_stmt)\n",
    "\n",
    "# Create the table.  It will be empty\n",
    "engine.execute(create_PiecewiseARIMA_sql)\n",
    "\n",
    "# Now copy the data from the Temp table into the New table\n",
    "sql_stmt = \"INSERT INTO PiecewiseARIMA SELECT * FROM Temp\"\n",
    "engine.execute(sql_stmt)\n",
    "\n",
    "# Delete the Temp table\n",
    "sql_stmt = \"DROP TABLE Temp\"\n",
    "engine.execute(sql_stmt)"
   ]
  },
  {
   "cell_type": "markdown",
   "metadata": {},
   "source": [
    "## 4. ARIMA individual parameter check"
   ]
  },
  {
   "cell_type": "code",
   "execution_count": 148,
   "metadata": {},
   "outputs": [
    {
     "name": "stdout",
     "output_type": "stream",
     "text": [
      "1 1 1\n"
     ]
    },
    {
     "data": {
      "image/png": "[encoded data removed]",
      "text/plain": [
       "<Figure size 1440x576 with 6 Axes>"
      ]
     },
     "metadata": {
      "needs_background": "light"
     },
     "output_type": "display_data"
    }
   ],
   "source": [
    "#################################################\n",
    "# 1. Diff term: d\n",
    "#################################################\n",
    "# suggested \"d\"\n",
    "y = df.wealth_ind\n",
    "print(ndiffs(y, test='adf'), ndiffs(y, test='kpss'), ndiffs(y, test='pp')) \n",
    "\n",
    "# Original Series\n",
    "fig, axes = plt.subplots(3, 2, sharex=True, figsize = (20, 8))\n",
    "axes[0, 0].plot(df.wealth_ind); axes[0, 0].set_title('Original Series')\n",
    "plot_acf(df.wealth_ind, ax=axes[0, 1])\n",
    "\n",
    "# 1st Differencing\n",
    "axes[1, 0].plot(df.wealth_ind.diff()); axes[1, 0].set_title('1st Order Differencing')\n",
    "plot_acf(df.wealth_ind.diff().dropna(), ax=axes[1, 1])\n",
    "\n",
    "# 2nd Differencing\n",
    "axes[2, 0].plot(df.wealth_ind.diff().diff()); axes[2, 0].set_title('2nd Order Differencing')\n",
    "plot_acf(df.wealth_ind.diff().diff().dropna(), ax=axes[2, 1])\n",
    "\n",
    "plt.show()"
   ]
  },
  {
   "cell_type": "code",
   "execution_count": null,
   "metadata": {},
   "outputs": [],
   "source": [
    "#################################################\n",
    "# 2. AM term: p \n",
    "#################################################\n",
    "fig, axes = plt.subplots(1, 2, sharex=True)\n",
    "axes[0].plot(df.wealth_ind.diff()); axes[0].set_title('1st Differencing')\n",
    "axes[1].set(ylim=(0,5))\n",
    "plot_pacf(df.wealth_ind.diff().dropna(), ax=axes[1])\n",
    "\n",
    "plt.show()"
   ]
  },
  {
   "cell_type": "code",
   "execution_count": null,
   "metadata": {},
   "outputs": [],
   "source": [
    "#################################################\n",
    "# 3. MA term: q\n",
    "#################################################\n",
    "fig, axes = plt.subplots(1, 2, sharex=True)\n",
    "axes[0].plot(df.wealth_ind.diff()); axes[0].set_title('1st Differencing')\n",
    "axes[1].set(ylim=(0,1.2))\n",
    "plot_acf(df.wealth_ind.diff().dropna(), ax=axes[1])\n",
    "\n",
    "plt.show()"
   ]
  },
  {
   "cell_type": "code",
   "execution_count": null,
   "metadata": {},
   "outputs": [],
   "source": [
    "#################################################\n",
    "# 4. build ARIMA model (1, 1, 1)\n",
    "#################################################\n",
    "model = ARIMA(df.wealth_ind, (1,1,1))\n",
    "model_fit = model.fit(disp = 0)\n",
    "print(model_fit.summary())"
   ]
  },
  {
   "cell_type": "code",
   "execution_count": null,
   "metadata": {},
   "outputs": [],
   "source": [
    "#################################################\n",
    "# 5. plot residual\n",
    "#################################################\n",
    "residuals = pd.DataFrame(model_fit.resid)\n",
    "fig, ax = plt.subplots(1,2)\n",
    "residuals.plot(title=\"Residuals\", ax=ax[0])\n",
    "residuals.plot(kind='kde', title='Density', ax=ax[1])\n",
    "plt.tight_layout()\n",
    "plt.show()"
   ]
  },
  {
   "cell_type": "code",
   "execution_count": null,
   "metadata": {
    "scrolled": true
   },
   "outputs": [],
   "source": [
    "model_fit.plot_predict(dynamic=False)\n",
    "plt.show()"
   ]
  },
  {
   "cell_type": "code",
   "execution_count": null,
   "metadata": {},
   "outputs": [],
   "source": []
  },
  {
   "cell_type": "markdown",
   "metadata": {},
   "source": [
    "## 3.1 Profitable Stratagy?"
   ]
  },
  {
   "cell_type": "code",
   "execution_count": 20,
   "metadata": {},
   "outputs": [
    {
     "data": {
      "text/html": [
       "<div>\n",
       "<style scoped>\n",
       "    .dataframe tbody tr th:only-of-type {\n",
       "        vertical-align: middle;\n",
       "    }\n",
       "\n",
       "    .dataframe tbody tr th {\n",
       "        vertical-align: top;\n",
       "    }\n",
       "\n",
       "    .dataframe thead th {\n",
       "        text-align: right;\n",
       "    }\n",
       "</style>\n",
       "<table border=\"1\" class=\"dataframe\">\n",
       "  <thead>\n",
       "    <tr style=\"text-align: right;\">\n",
       "      <th></th>\n",
       "      <th>date</th>\n",
       "      <th>wealth_ind</th>\n",
       "    </tr>\n",
       "  </thead>\n",
       "  <tbody>\n",
       "    <tr>\n",
       "      <th>0</th>\n",
       "      <td>2014-11-30</td>\n",
       "      <td>338.64</td>\n",
       "    </tr>\n",
       "    <tr>\n",
       "      <th>1</th>\n",
       "      <td>2014-12-31</td>\n",
       "      <td>310.35</td>\n",
       "    </tr>\n",
       "    <tr>\n",
       "      <th>2</th>\n",
       "      <td>2015-01-31</td>\n",
       "      <td>354.53</td>\n",
       "    </tr>\n",
       "    <tr>\n",
       "      <th>3</th>\n",
       "      <td>2015-02-28</td>\n",
       "      <td>380.16</td>\n",
       "    </tr>\n",
       "    <tr>\n",
       "      <th>4</th>\n",
       "      <td>2015-03-31</td>\n",
       "      <td>372.10</td>\n",
       "    </tr>\n",
       "  </tbody>\n",
       "</table>\n",
       "</div>"
      ],
      "text/plain": [
       "         date  wealth_ind\n",
       "0  2014-11-30      338.64\n",
       "1  2014-12-31      310.35\n",
       "2  2015-01-31      354.53\n",
       "3  2015-02-28      380.16\n",
       "4  2015-03-31      372.10"
      ]
     },
     "execution_count": 20,
     "metadata": {},
     "output_type": "execute_result"
    }
   ],
   "source": [
    "test_df = df.copy()\n",
    "test_df.head()"
   ]
  },
  {
   "cell_type": "markdown",
   "metadata": {},
   "source": [
    "#### 1. If invest as nobrainer -- always buy"
   ]
  },
  {
   "cell_type": "markdown",
   "metadata": {},
   "source": [
    "rise = np.log((test_df['total_return'])/100).fillna(0)\n",
    "drop = -np.log(-(test_df['total_return'])/100).fillna(0)\n",
    "sum(drop + rise)"
   ]
  }
 ],
 "metadata": {
  "kernelspec": {
   "display_name": "Python 3",
   "language": "python",
   "name": "python3"
  },
  "language_info": {
   "codemirror_mode": {
    "name": "ipython",
    "version": 3
   },
   "file_extension": ".py",
   "mimetype": "text/x-python",
   "name": "python",
   "nbconvert_exporter": "python",
   "pygments_lexer": "ipython3",
   "version": "3.7.3"
  }
 },
 "nbformat": 4,
 "nbformat_minor": 2
}
