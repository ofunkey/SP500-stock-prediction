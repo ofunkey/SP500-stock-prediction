{
 "cells": [
  {
   "cell_type": "markdown",
   "metadata": {},
   "source": [
    "# ARIMA model predicting future stock price"
   ]
  },
  {
   "cell_type": "markdown",
   "metadata": {},
   "source": [
    "### 0. Load Dependencies"
   ]
  },
  {
   "cell_type": "code",
   "execution_count": 1,
   "metadata": {},
   "outputs": [],
   "source": [
    "import warnings\n",
    "warnings.filterwarnings(\"ignore\")\n",
    "\n",
    "import numpy as np\n",
    "import pandas as pd\n",
    "import seaborn as sns\n",
    "import matplotlib.pyplot as plt\n",
    "\n",
    "import sqlalchemy\n",
    "from sqlalchemy.ext.automap import automap_base\n",
    "from sqlalchemy.orm import Session\n",
    "from sqlalchemy import create_engine, func, inspect\n",
    "\n",
    "# from pandas.plotting import autocorrelation_plot\n",
    "# from statsmodels.tsa.arima_model import ARIMA\n",
    "# from statsmodels.graphics.tsaplots import plot_acf, plot_pacf\n",
    "# from statsmodels.tsa.seasonal import seasonal_decompose\n",
    "# from pmdarima.arima.utils import nsdiffs\n",
    "# from pmdarima.arima.utils import ndiffs\n",
    "# import pmdarima as pm\n",
    "# from scipy.signal import find_peaks"
   ]
  },
  {
   "cell_type": "code",
   "execution_count": 2,
   "metadata": {},
   "outputs": [],
   "source": [
    "def plot_line(x, y, x_label = None, y_label = None, title = None):\n",
    "    plt.figure(figsize=(10, 4))\n",
    "    plt.plot(x, y, ls = '-')\n",
    "    plt.xlabel(x_label, fontsize = 13)\n",
    "    plt.ylabel(y_label, fontsize = 13)\n",
    "    plt.title(title, fontsize = 15)\n",
    "#     plt.show()"
   ]
  },
  {
   "cell_type": "code",
   "execution_count": 3,
   "metadata": {},
   "outputs": [],
   "source": [
    "def mrs(y, yhat):\n",
    "    if len(y) != len(yhat):\n",
    "        return 'error: length inconsistent'\n",
    "    return sum(np.square(y - yhat))"
   ]
  },
  {
   "cell_type": "code",
   "execution_count": 4,
   "metadata": {},
   "outputs": [],
   "source": [
    "def abs2(x):\n",
    "    return x.real**2 + x.imag**2"
   ]
  },
  {
   "cell_type": "markdown",
   "metadata": {},
   "source": [
    "### 1. Load SQLite database"
   ]
  },
  {
   "cell_type": "code",
   "execution_count": 5,
   "metadata": {},
   "outputs": [],
   "source": [
    "#################################################\n",
    "# 1. Database Setup\n",
    "#################################################\n",
    "engine = create_engine(\"sqlite:///../data/CompanyData.sqlite\")\n",
    "\n",
    "# reflect an existing database into a new model\n",
    "Base = automap_base()\n",
    "# reflect the tables\n",
    "Base.prepare(engine, reflect=True)\n",
    "\n",
    "# Save reference to the table\n",
    "MasterData = Base.classes.MasterData\n",
    "QuintileMonthlyData = Base.classes.QuintileMonthlyData\n",
    "QuintileAvgData = Base.classes.QuintileAvgData"
   ]
  },
  {
   "cell_type": "code",
   "execution_count": 6,
   "metadata": {},
   "outputs": [
    {
     "name": "stdout",
     "output_type": "stream",
     "text": [
      "Table Names: \n",
      "['FinData2', 'MasterData', 'PriceData2', 'QuintileAvgData', 'QuintileMonthlyData', 'findata', 'pricedata']\n"
     ]
    }
   ],
   "source": [
    "#################################################\n",
    "# 2. Tables\n",
    "#################################################\n",
    "# Create the inspector and connect it to the engine\n",
    "inspector = inspect(engine)\n",
    "# Collect the names of tables within the database\n",
    "print(\"Table Names: \")\n",
    "print(inspector.get_table_names())"
   ]
  },
  {
   "cell_type": "code",
   "execution_count": 7,
   "metadata": {},
   "outputs": [],
   "source": [
    "#################################################\n",
    "# 3. Columns and DataType\n",
    "#################################################\n",
    "# Using the inspector to print the column names within the 'dow' table and its types\n",
    "columns = inspector.get_columns('MasterData')\n",
    "# Column names and DataType\n",
    "df = pd.DataFrame({\"name\": [col['name'] for col in columns],\n",
    "                  \"type\": [col['type'] for col in columns]})"
   ]
  },
  {
   "cell_type": "code",
   "execution_count": 8,
   "metadata": {},
   "outputs": [
    {
     "data": {
      "text/html": [
       "<div>\n",
       "<style scoped>\n",
       "    .dataframe tbody tr th:only-of-type {\n",
       "        vertical-align: middle;\n",
       "    }\n",
       "\n",
       "    .dataframe tbody tr th {\n",
       "        vertical-align: top;\n",
       "    }\n",
       "\n",
       "    .dataframe thead th {\n",
       "        text-align: right;\n",
       "    }\n",
       "</style>\n",
       "<table border=\"1\" class=\"dataframe\">\n",
       "  <thead>\n",
       "    <tr style=\"text-align: right;\">\n",
       "      <th></th>\n",
       "      <th>name</th>\n",
       "      <th>type</th>\n",
       "    </tr>\n",
       "  </thead>\n",
       "  <tbody>\n",
       "    <tr>\n",
       "      <th>0</th>\n",
       "      <td>monthend_date</td>\n",
       "      <td>DATE</td>\n",
       "    </tr>\n",
       "    <tr>\n",
       "      <th>1</th>\n",
       "      <td>ticker</td>\n",
       "      <td>VARCHAR(8)</td>\n",
       "    </tr>\n",
       "    <tr>\n",
       "      <th>2</th>\n",
       "      <td>price</td>\n",
       "      <td>FLOAT</td>\n",
       "    </tr>\n",
       "    <tr>\n",
       "      <th>3</th>\n",
       "      <td>wealth_index</td>\n",
       "      <td>FLOAT</td>\n",
       "    </tr>\n",
       "    <tr>\n",
       "      <th>4</th>\n",
       "      <td>end_wealth_index</td>\n",
       "      <td>FLOAT</td>\n",
       "    </tr>\n",
       "  </tbody>\n",
       "</table>\n",
       "</div>"
      ],
      "text/plain": [
       "               name        type\n",
       "0     monthend_date        DATE\n",
       "1            ticker  VARCHAR(8)\n",
       "2             price       FLOAT\n",
       "3      wealth_index       FLOAT\n",
       "4  end_wealth_index       FLOAT"
      ]
     },
     "execution_count": 8,
     "metadata": {},
     "output_type": "execute_result"
    }
   ],
   "source": [
    "df.head()"
   ]
  },
  {
   "cell_type": "markdown",
   "metadata": {},
   "source": [
    "### 2. Extract price from Individual STOCK"
   ]
  },
  {
   "cell_type": "code",
   "execution_count": 9,
   "metadata": {},
   "outputs": [],
   "source": [
    "#################################################\n",
    "# 1. choose stock & query\n",
    "#################################################\n",
    "ticker = 'MSFT'\n",
    "session = Session(engine)\n",
    "results = session.query(MasterData).filter(MasterData.ticker == ticker).all()"
   ]
  },
  {
   "cell_type": "code",
   "execution_count": 10,
   "metadata": {},
   "outputs": [
    {
     "data": {
      "text/html": [
       "<div>\n",
       "<style scoped>\n",
       "    .dataframe tbody tr th:only-of-type {\n",
       "        vertical-align: middle;\n",
       "    }\n",
       "\n",
       "    .dataframe tbody tr th {\n",
       "        vertical-align: top;\n",
       "    }\n",
       "\n",
       "    .dataframe thead th {\n",
       "        text-align: right;\n",
       "    }\n",
       "</style>\n",
       "<table border=\"1\" class=\"dataframe\">\n",
       "  <thead>\n",
       "    <tr style=\"text-align: right;\">\n",
       "      <th></th>\n",
       "      <th>date</th>\n",
       "      <th>wealth_ind</th>\n",
       "      <th>mon_ahead_wealth_ind</th>\n",
       "      <th>total_return</th>\n",
       "    </tr>\n",
       "  </thead>\n",
       "  <tbody>\n",
       "    <tr>\n",
       "      <th>0</th>\n",
       "      <td>2014-11-30</td>\n",
       "      <td>43.0679</td>\n",
       "      <td>41.8428</td>\n",
       "      <td>-2.844578</td>\n",
       "    </tr>\n",
       "    <tr>\n",
       "      <th>1</th>\n",
       "      <td>2014-12-31</td>\n",
       "      <td>41.8428</td>\n",
       "      <td>36.3929</td>\n",
       "      <td>-13.024702</td>\n",
       "    </tr>\n",
       "    <tr>\n",
       "      <th>2</th>\n",
       "      <td>2015-01-31</td>\n",
       "      <td>36.3929</td>\n",
       "      <td>39.7818</td>\n",
       "      <td>9.311981</td>\n",
       "    </tr>\n",
       "    <tr>\n",
       "      <th>3</th>\n",
       "      <td>2015-02-28</td>\n",
       "      <td>39.7818</td>\n",
       "      <td>36.8877</td>\n",
       "      <td>-7.274935</td>\n",
       "    </tr>\n",
       "    <tr>\n",
       "      <th>4</th>\n",
       "      <td>2015-03-31</td>\n",
       "      <td>36.8877</td>\n",
       "      <td>44.1274</td>\n",
       "      <td>19.626325</td>\n",
       "    </tr>\n",
       "  </tbody>\n",
       "</table>\n",
       "</div>"
      ],
      "text/plain": [
       "         date  wealth_ind  mon_ahead_wealth_ind  total_return\n",
       "0  2014-11-30     43.0679               41.8428     -2.844578\n",
       "1  2014-12-31     41.8428               36.3929    -13.024702\n",
       "2  2015-01-31     36.3929               39.7818      9.311981\n",
       "3  2015-02-28     39.7818               36.8877     -7.274935\n",
       "4  2015-03-31     36.8877               44.1274     19.626325"
      ]
     },
     "execution_count": 10,
     "metadata": {},
     "output_type": "execute_result"
    }
   ],
   "source": [
    "date = [res.monthend_date for res in results]\n",
    "wealth_ind = [res.wealth_index for res in results]\n",
    "end_wealth_ind = [res.end_wealth_index for res in results]\n",
    "total_return = [res.total_return for res in results]\n",
    "\n",
    "df = pd.DataFrame({'date': date, \n",
    "                   'wealth_ind': wealth_ind, \n",
    "                   'mon_ahead_wealth_ind': end_wealth_ind,\n",
    "                   'total_return': total_return\n",
    "                  })\n",
    "df.head()"
   ]
  },
  {
   "cell_type": "code",
   "execution_count": 11,
   "metadata": {},
   "outputs": [
    {
     "data": {
      "image/png": "[encoded data removed]",
      "text/plain": [
       "<Figure size 720x288 with 1 Axes>"
      ]
     },
     "metadata": {
      "needs_background": "light"
     },
     "output_type": "display_data"
    }
   ],
   "source": [
    "#################################################\n",
    "# 2. plot raw data\n",
    "#################################################\n",
    "\n",
    "plot_line(df.date, df.wealth_ind, 'Date','Wealth Index', None)"
   ]
  },
  {
   "cell_type": "markdown",
   "metadata": {},
   "source": [
    "## 3. LSTM"
   ]
  },
  {
   "cell_type": "code",
   "execution_count": 12,
   "metadata": {},
   "outputs": [
    {
     "name": "stderr",
     "output_type": "stream",
     "text": [
      "Using TensorFlow backend.\n"
     ]
    }
   ],
   "source": [
    "from sklearn.preprocessing import MinMaxScaler\n",
    "from sklearn.model_selection import GridSearchCV\n",
    "\n",
    "from keras import optimizers\n",
    "from keras.models import Sequential\n",
    "from keras.layers import Dense\n",
    "from keras.layers import LSTM\n",
    "from keras.layers import Dropout"
   ]
  },
  {
   "cell_type": "code",
   "execution_count": 13,
   "metadata": {},
   "outputs": [
    {
     "data": {
      "text/html": [
       "<div>\n",
       "<style scoped>\n",
       "    .dataframe tbody tr th:only-of-type {\n",
       "        vertical-align: middle;\n",
       "    }\n",
       "\n",
       "    .dataframe tbody tr th {\n",
       "        vertical-align: top;\n",
       "    }\n",
       "\n",
       "    .dataframe thead th {\n",
       "        text-align: right;\n",
       "    }\n",
       "</style>\n",
       "<table border=\"1\" class=\"dataframe\">\n",
       "  <thead>\n",
       "    <tr style=\"text-align: right;\">\n",
       "      <th></th>\n",
       "      <th>Date</th>\n",
       "      <th>Open</th>\n",
       "      <th>High</th>\n",
       "      <th>Low</th>\n",
       "      <th>Close</th>\n",
       "      <th>Adj Close</th>\n",
       "      <th>Volume</th>\n",
       "    </tr>\n",
       "  </thead>\n",
       "  <tbody>\n",
       "    <tr>\n",
       "      <th>0</th>\n",
       "      <td>2014-10-23</td>\n",
       "      <td>44.619999</td>\n",
       "      <td>45.450001</td>\n",
       "      <td>44.529999</td>\n",
       "      <td>45.020000</td>\n",
       "      <td>40.300430</td>\n",
       "      <td>45451900</td>\n",
       "    </tr>\n",
       "    <tr>\n",
       "      <th>1</th>\n",
       "      <td>2014-10-24</td>\n",
       "      <td>46.830002</td>\n",
       "      <td>46.900002</td>\n",
       "      <td>45.180000</td>\n",
       "      <td>46.130001</td>\n",
       "      <td>41.294075</td>\n",
       "      <td>61076700</td>\n",
       "    </tr>\n",
       "    <tr>\n",
       "      <th>2</th>\n",
       "      <td>2014-10-27</td>\n",
       "      <td>45.709999</td>\n",
       "      <td>46.099998</td>\n",
       "      <td>45.709999</td>\n",
       "      <td>45.910000</td>\n",
       "      <td>41.097130</td>\n",
       "      <td>30371300</td>\n",
       "    </tr>\n",
       "    <tr>\n",
       "      <th>3</th>\n",
       "      <td>2014-10-28</td>\n",
       "      <td>45.860001</td>\n",
       "      <td>46.500000</td>\n",
       "      <td>45.770000</td>\n",
       "      <td>46.490002</td>\n",
       "      <td>41.616329</td>\n",
       "      <td>29049800</td>\n",
       "    </tr>\n",
       "    <tr>\n",
       "      <th>4</th>\n",
       "      <td>2014-10-29</td>\n",
       "      <td>46.439999</td>\n",
       "      <td>46.700001</td>\n",
       "      <td>46.340000</td>\n",
       "      <td>46.619999</td>\n",
       "      <td>41.732697</td>\n",
       "      <td>30276100</td>\n",
       "    </tr>\n",
       "  </tbody>\n",
       "</table>\n",
       "</div>"
      ],
      "text/plain": [
       "         Date       Open       High        Low      Close  Adj Close    Volume\n",
       "0  2014-10-23  44.619999  45.450001  44.529999  45.020000  40.300430  45451900\n",
       "1  2014-10-24  46.830002  46.900002  45.180000  46.130001  41.294075  61076700\n",
       "2  2014-10-27  45.709999  46.099998  45.709999  45.910000  41.097130  30371300\n",
       "3  2014-10-28  45.860001  46.500000  45.770000  46.490002  41.616329  29049800\n",
       "4  2014-10-29  46.439999  46.700001  46.340000  46.619999  41.732697  30276100"
      ]
     },
     "execution_count": 13,
     "metadata": {},
     "output_type": "execute_result"
    }
   ],
   "source": [
    "msft = pd.read_csv('MSFT.csv')\n",
    "msft.head()"
   ]
  },
  {
   "cell_type": "code",
   "execution_count": 14,
   "metadata": {
    "scrolled": true
   },
   "outputs": [
    {
     "data": {
      "text/html": [
       "<div>\n",
       "<style scoped>\n",
       "    .dataframe tbody tr th:only-of-type {\n",
       "        vertical-align: middle;\n",
       "    }\n",
       "\n",
       "    .dataframe tbody tr th {\n",
       "        vertical-align: top;\n",
       "    }\n",
       "\n",
       "    .dataframe thead th {\n",
       "        text-align: right;\n",
       "    }\n",
       "</style>\n",
       "<table border=\"1\" class=\"dataframe\">\n",
       "  <thead>\n",
       "    <tr style=\"text-align: right;\">\n",
       "      <th></th>\n",
       "      <th>Date</th>\n",
       "      <th>Open</th>\n",
       "    </tr>\n",
       "  </thead>\n",
       "  <tbody>\n",
       "    <tr>\n",
       "      <th>0</th>\n",
       "      <td>2014-10-23</td>\n",
       "      <td>0.042309</td>\n",
       "    </tr>\n",
       "    <tr>\n",
       "      <th>1</th>\n",
       "      <td>2014-10-24</td>\n",
       "      <td>0.064156</td>\n",
       "    </tr>\n",
       "    <tr>\n",
       "      <th>2</th>\n",
       "      <td>2014-10-27</td>\n",
       "      <td>0.053084</td>\n",
       "    </tr>\n",
       "    <tr>\n",
       "      <th>3</th>\n",
       "      <td>2014-10-28</td>\n",
       "      <td>0.054567</td>\n",
       "    </tr>\n",
       "    <tr>\n",
       "      <th>4</th>\n",
       "      <td>2014-10-29</td>\n",
       "      <td>0.060301</td>\n",
       "    </tr>\n",
       "  </tbody>\n",
       "</table>\n",
       "</div>"
      ],
      "text/plain": [
       "         Date      Open\n",
       "0  2014-10-23  0.042309\n",
       "1  2014-10-24  0.064156\n",
       "2  2014-10-27  0.053084\n",
       "3  2014-10-28  0.054567\n",
       "4  2014-10-29  0.060301"
      ]
     },
     "execution_count": 14,
     "metadata": {},
     "output_type": "execute_result"
    }
   ],
   "source": [
    "#################################################\n",
    "# 1. data cleaning and preparation\n",
    "#################################################\n",
    "## copy col, Min Max rescale to (0,1)\n",
    "cols = ['Date', 'Open']\n",
    "data = msft[cols].copy()\n",
    "\n",
    "scaler = MinMaxScaler(feature_range = (0, 1))\n",
    "\n",
    "data['Open'] = scaler.fit_transform(data[['Open']])\n",
    "train = data[0:-200]\n",
    "test = data[-200::]\n",
    "data.head()"
   ]
  },
  {
   "cell_type": "code",
   "execution_count": 15,
   "metadata": {},
   "outputs": [
    {
     "name": "stdout",
     "output_type": "stream",
     "text": [
      "feature shape: (1049, 10, 1)\n",
      "label shape  : (1049, 1)\n"
     ]
    }
   ],
   "source": [
    "n = 10    # feature length for each label (how many past data is used in each label)\n",
    "feature = [] # contains historic price T-n: T \n",
    "label = []   # contain price at time T\n",
    "\n",
    "for i in range(n,len(train)):\n",
    "    feature.append(list(train['Open'][i - n: i]))\n",
    "    label.append(data['Open'][i])\n",
    " \n",
    "label = np.array(label).reshape(-1, 1) # cast to np.array for training\n",
    "feature  = np.array(feature)\n",
    "feature = np.reshape(feature, (feature.shape[0], n, 1)) # shape(m, n, 1) \n",
    "                                                        # ==> m: # sample; n: feature length; d = feature dim (1)\n",
    "\n",
    "print(\"feature shape:\", feature.shape)\n",
    "print(\"label shape  :\", label.shape)"
   ]
  },
  {
   "cell_type": "code",
   "execution_count": 16,
   "metadata": {},
   "outputs": [],
   "source": [
    "#################################################\n",
    "# 2. prepare test feature\n",
    "#################################################\n",
    "label_test = np.array(test['Open']).reshape(-1, 1)\n",
    "\n",
    "feature_test = [] # contains historic price T-n: T \n",
    "\n",
    "for i in range(len(test)):\n",
    "    ind = i - len(test)\n",
    "    feature_test.append(list(data['Open'][ind - n: ind]))\n",
    "\n",
    "label_test = np.array(label_test).reshape(-1, 1) # cast to np.array for training\n",
    "feature_test  = np.array(feature_test)\n",
    "feature_test = np.reshape(feature_test, (feature_test.shape[0], n, 1))"
   ]
  },
  {
   "cell_type": "code",
   "execution_count": null,
   "metadata": {},
   "outputs": [],
   "source": []
  },
  {
   "cell_type": "code",
   "execution_count": 17,
   "metadata": {},
   "outputs": [],
   "source": [
    "from hyperopt import Trials, STATUS_OK, tpe, fmin, hp\n",
    "\n",
    "def data(batch_size, time_steps):\n",
    "    \"\"\"\n",
    "    function that returns data to be fed into objective function and model is trained on it subsequently.\n",
    "    \"\"\"\n",
    "    global mat\n",
    "\n",
    "    BATCH_SIZE = batch_size\n",
    "    TIME_STEPS = time_steps\n",
    "    x_train, x_test = train_test_split(mat, train_size=0.8, test_size=0.2, shuffle=False)\n",
    "    # scale the train and test dataset\n",
    "    min_max_scaler = MinMaxScaler()\n",
    "    x_train = min_max_scaler.fit_transform(x_train)\n",
    "    x_test = min_max_scaler.transform(x_test)\n",
    "\n",
    "    x_train_ts, y_train_ts = build_timeseries(x_train, 3, TIME_STEPS)\n",
    "    x_test_ts, y_test_ts = build_timeseries(x_test, 3, TIME_STEPS)\n",
    "    x_train_ts = trim_dataset(x_train_ts, BATCH_SIZE)\n",
    "    y_train_ts = trim_dataset(y_train_ts, BATCH_SIZE)\n",
    "    x_test_ts = trim_dataset(x_test_ts, BATCH_SIZE)\n",
    "    y_test_ts = trim_dataset(y_test_ts, BATCH_SIZE)\n",
    "    return x_train_ts, y_train_ts, x_test_ts, y_test_ts\n",
    "\n",
    "search_space = {\n",
    "    'batch_size': hp.choice('bs', [30,40,50,60,70]),\n",
    "    'time_steps': hp.choice('ts', [30,50,60,80,90]),\n",
    "    'lstm1_nodes': hp.choice('units_lsmt1', [70,80,100,130]),\n",
    "    'lstm1_dropouts': hp.uniform('dos_lstm1',0,1),\n",
    "    'lstm_layers': hp.choice('num_layers_lstm',[\n",
    "        {\n",
    "            'layers':'one', \n",
    "        },\n",
    "        {\n",
    "            'layers':'two',\n",
    "            'lstm2_nodes': hp.choice('units_lstm2', [20,30,40,50]),\n",
    "            'lstm2_dropouts': hp.uniform('dos_lstm2',0,1)  \n",
    "        }\n",
    "        ]),\n",
    "    'dense_layers': hp.choice('num_layers_dense',[\n",
    "        {\n",
    "            'layers':'one'\n",
    "        },\n",
    "        {\n",
    "            'layers':'two',\n",
    "            'dense2_nodes': hp.choice('units_dense', [10,20,30,40])\n",
    "        }\n",
    "        ]),\n",
    "    \"lr\": hp.uniform('lr',0,1),\n",
    "    \"epochs\": hp.choice('epochs', [30, 40, 50, 60, 70]),\n",
    "    \"optimizer\": hp.choice('optmz',[\"sgd\", \"rms\"])\n",
    "}\n",
    "\n",
    "def create_model_hypopt(params):\n",
    "    \"\"\"\n",
    "    This method is called for each combination of parameter set to train the model and validate it against validation data\n",
    "    to see all the results, from which best can be selected.\n",
    "    \"\"\"\n",
    "    print(\"Trying params:\",params)\n",
    "    batch_size = params[\"batch_size\"]\n",
    "    time_steps = params[\"time_steps\"]\n",
    "    # For most cases preparation of data can be done once and used 'n' number of times in this method to train the model\n",
    "    # but in this case we want to find optimal value for batch_size and time_steps too. So our data preparation has to be done\n",
    "    # based on that. Hence calling it from here.\n",
    "    x_train_ts, y_train_ts, x_test_ts, y_test_ts = data(batch_size, time_steps)\n",
    "    lstm_model = Sequential()\n",
    "    # (batch_size, timesteps, data_dim)\n",
    "    lstm_model.add(LSTM(params[\"lstm1_nodes\"], batch_input_shape=(batch_size, time_steps, x_train_ts.shape[2]), dropout=params[\"lstm1_dropouts\"],\n",
    "                        recurrent_dropout=params[\"lstm1_dropouts\"], stateful=True, return_sequences=True,\n",
    "                        kernel_initializer='random_uniform'))  \n",
    "    if params[\"lstm_layers\"][\"layers\"] == \"two\":\n",
    "        lstm_model.add(LSTM(params[\"lstm_layers\"][\"lstm2_nodes\"], dropout=params[\"lstm_layers\"][\"lstm2_dropouts\"]))\n",
    "    else:\n",
    "        lstm_model.add(Flatten())\n",
    "\n",
    "    if params[\"dense_layers\"][\"layers\"] == 'two':\n",
    "        lstm_model.add(Dense(params[\"dense_layers\"][\"dense2_nodes\"], activation='relu'))\n",
    "    \n",
    "    lstm_model.add(Dense(1, activation='sigmoid'))\n",
    "\n",
    "    lr = params[\"lr\"]\n",
    "    epochs = params[\"epochs\"]\n",
    "    if params[\"optimizer\"] == 'rms':\n",
    "        optimizer = optimizers.RMSprop(lr=lr)\n",
    "    else:\n",
    "        optimizer = optimizers.SGD(lr=lr, decay=1e-6, momentum=0.9, nesterov=True)\n",
    "\n",
    "    lstm_model.compile(loss='mean_squared_error', optimizer=optimizer)  # binary_crossentropy\n",
    "    history = lstm_model.fit(x_train_ts, y_train_ts, epochs=epochs, verbose=2, batch_size=batch_size,\n",
    "                             validation_data=[x_test_ts, y_test_ts],\n",
    "                             callbacks=[your_csv_logger])\n",
    "    val_error = np.amin(history.history['val_loss']) \n",
    "    print('Best validation error of epoch:', val_error)\n",
    "    return {'loss': val_error, 'status': STATUS_OK, 'model': lstm_model} # if accuracy use '-' sign\n",
    "    # return history, lstm_model"
   ]
  },
  {
   "cell_type": "code",
   "execution_count": 18,
   "metadata": {},
   "outputs": [],
   "source": [
    "# Trails object let's you return and store extra information from objective function, which\n",
    "# can be analysed later. Check \"trails.trails\" which returns all the list of dictionaries \n",
    "trials = Trials()\n"
   ]
  },
  {
   "cell_type": "code",
   "execution_count": 19,
   "metadata": {},
   "outputs": [
    {
     "ename": "NameError",
     "evalue": "name 'optim' is not defined",
     "output_type": "error",
     "traceback": [
      "\u001b[0;31m---------------------------------------------------------------------------\u001b[0m",
      "\u001b[0;31mNameError\u001b[0m                                 Traceback (most recent call last)",
      "\u001b[0;32m<ipython-input-19-a8be9161fd69>\u001b[0m in \u001b[0;36m<module>\u001b[0;34m\u001b[0m\n\u001b[0;32m----> 1\u001b[0;31m best_run, best_model = optim.minimize(model=create_model,\n\u001b[0m\u001b[1;32m      2\u001b[0m                                       \u001b[0mdata\u001b[0m\u001b[0;34m=\u001b[0m\u001b[0mdata_dummy\u001b[0m\u001b[0;34m,\u001b[0m\u001b[0;34m\u001b[0m\u001b[0;34m\u001b[0m\u001b[0m\n\u001b[1;32m      3\u001b[0m                                       \u001b[0malgo\u001b[0m\u001b[0;34m=\u001b[0m\u001b[0mtpe\u001b[0m\u001b[0;34m.\u001b[0m\u001b[0msuggest\u001b[0m\u001b[0;34m,\u001b[0m\u001b[0;34m\u001b[0m\u001b[0;34m\u001b[0m\u001b[0m\n\u001b[1;32m      4\u001b[0m                                       \u001b[0mmax_evals\u001b[0m\u001b[0;34m=\u001b[0m\u001b[0;36m2000\u001b[0m\u001b[0;34m,\u001b[0m\u001b[0;34m\u001b[0m\u001b[0;34m\u001b[0m\u001b[0m\n\u001b[1;32m      5\u001b[0m                                       trials=Trials())\n",
      "\u001b[0;31mNameError\u001b[0m: name 'optim' is not defined"
     ]
    }
   ],
   "source": [
    "best_run, best_model = optim.minimize(model=create_model,\n",
    "                                      data=data_dummy,\n",
    "                                      algo=tpe.suggest,\n",
    "                                      max_evals=2000,\n",
    "                                      trials=Trials())"
   ]
  },
  {
   "cell_type": "code",
   "execution_count": null,
   "metadata": {},
   "outputs": [],
   "source": []
  },
  {
   "cell_type": "code",
   "execution_count": null,
   "metadata": {},
   "outputs": [],
   "source": []
  },
  {
   "cell_type": "code",
   "execution_count": null,
   "metadata": {},
   "outputs": [],
   "source": []
  },
  {
   "cell_type": "code",
   "execution_count": 89,
   "metadata": {},
   "outputs": [],
   "source": [
    "#################################################\n",
    "# 3. train LSTM\n",
    "#################################################\n",
    "# parameters to tune\n",
    "unit_n = 50\n",
    "dropout = 0.2\n",
    "lr = 0.01\n",
    "\n",
    "def create_model(batch_size):\n",
    "    # MODEL\n",
    "    # 1. input layer\n",
    "    model = Sequential()\n",
    "    model.add(LSTM(units=unit_n, return_sequences=True, input_shape=(feature.shape[1], 1)))\n",
    "    model.add(Dropout(dropout))\n",
    "    # 2. LSTM training layers\n",
    "    model.add(LSTM(units=unit_n, return_sequences=True))\n",
    "    model.add(Dropout(dropout))\n",
    "    model.add(LSTM(units=unit_n))\n",
    "    model.add(Dropout(dropout))\n",
    "    # 3. Dense layer, preparing for outpu\n",
    "    model.add(Dense(20,activation='relu'))\n",
    "    model.add(Dense(1, activation='sigmoid'))\n",
    "    # model fitting\n",
    "    optimizer = optimizers.RMSprop(lr=lr)\n",
    "    model.compile(optimizer = optimizer, loss = 'mean_squared_error', metrics=['accuracy'])\n",
    "    model.fit(feature, label, epochs = 10, batch_size = batch_size)#, verbose=0)\n",
    "    return model"
   ]
  },
  {
   "cell_type": "code",
   "execution_count": 90,
   "metadata": {},
   "outputs": [
    {
     "name": "stdout",
     "output_type": "stream",
     "text": [
      "Epoch 1/10\n",
      "1049/1049 [==============================] - 9s 8ms/step - loss: 0.0167 - accuracy: 9.5329e-04\n",
      "Epoch 2/10\n",
      "1049/1049 [==============================] - 8s 8ms/step - loss: 0.0043 - accuracy: 9.5329e-04\n",
      "Epoch 3/10\n",
      "1049/1049 [==============================] - 8s 8ms/step - loss: 0.0034 - accuracy: 9.5329e-04\n",
      "Epoch 4/10\n",
      "1049/1049 [==============================] - 8s 7ms/step - loss: 0.0029 - accuracy: 9.5329e-04\n",
      "Epoch 5/10\n",
      "1049/1049 [==============================] - 8s 7ms/step - loss: 0.0025 - accuracy: 9.5329e-04\n",
      "Epoch 6/10\n",
      "1049/1049 [==============================] - 8s 7ms/step - loss: 0.0024 - accuracy: 9.5329e-04\n",
      "Epoch 7/10\n",
      "1049/1049 [==============================] - 8s 7ms/step - loss: 0.0019 - accuracy: 9.5329e-04\n",
      "Epoch 8/10\n",
      "1049/1049 [==============================] - 8s 8ms/step - loss: 0.0019 - accuracy: 9.5329e-04\n",
      "Epoch 9/10\n",
      "1049/1049 [==============================] - 8s 8ms/step - loss: 0.0018 - accuracy: 9.5329e-04\n",
      "Epoch 10/10\n",
      "1049/1049 [==============================] - 8s 8ms/step - loss: 0.0016 - accuracy: 9.5329e-04\n",
      "1 [8.90514905]\n",
      "1 [8.90514905]\n"
     ]
    }
   ],
   "source": [
    "mrs_min = np.Infinity\n",
    "winner = 0\n",
    "for i in range(1,2):\n",
    "    model = create_model(i)\n",
    "    predictions = model.predict(feature_test)\n",
    "    \n",
    "    currentmrs = mrs(label_test, predictions)\n",
    "    print(i, currentmrs)\n",
    "    if  currentmrs < mrs_min:\n",
    "        winner = i\n",
    "        mrs_min = currentmrs\n",
    "print(winner, mrs_min)"
   ]
  },
  {
   "cell_type": "code",
   "execution_count": 91,
   "metadata": {},
   "outputs": [],
   "source": [
    "#################################################\n",
    "# 4. prediction\n",
    "#################################################\n",
    "predictions = model.predict(feature_test)\n",
    "predictions = scaler.inverse_transform(predictions)\n",
    "\n",
    "predict_train = model.predict(feature)\n",
    "predict_train = scaler.inverse_transform(predict_train)"
   ]
  },
  {
   "cell_type": "code",
   "execution_count": 92,
   "metadata": {},
   "outputs": [
    {
     "data": {
      "text/plain": [
       "[<matplotlib.lines.Line2D at 0x182e65e10>]"
      ]
     },
     "execution_count": 92,
     "metadata": {},
     "output_type": "execute_result"
    },
    {
     "data": {
      "image/png": "[encoded data removed]",
      "text/plain": [
       "<Figure size 720x576 with 1 Axes>"
      ]
     },
     "metadata": {
      "needs_background": "light"
     },
     "output_type": "display_data"
    }
   ],
   "source": [
    "plt.figure(figsize = (10,8))\n",
    "plt.plot(msft['Open'][::])\n",
    "plt.plot(test.index, predictions)\n",
    "plt.plot(train.index[n::], predict_train)"
   ]
  },
  {
   "cell_type": "code",
   "execution_count": null,
   "metadata": {},
   "outputs": [],
   "source": []
  },
  {
   "cell_type": "code",
   "execution_count": null,
   "metadata": {},
   "outputs": [],
   "source": []
  }
 ],
 "metadata": {
  "kernelspec": {
   "display_name": "Python 3",
   "language": "python",
   "name": "python3"
  },
  "language_info": {
   "codemirror_mode": {
    "name": "ipython",
    "version": 3
   },
   "file_extension": ".py",
   "mimetype": "text/x-python",
   "name": "python",
   "nbconvert_exporter": "python",
   "pygments_lexer": "ipython3",
   "version": "3.7.3"
  }
 },
 "nbformat": 4,
 "nbformat_minor": 2
}
