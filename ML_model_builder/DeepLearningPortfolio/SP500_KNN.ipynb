{
 "cells": [
  {
   "cell_type": "code",
   "execution_count": 1,
   "metadata": {},
   "outputs": [],
   "source": [
    "import pandas as pd\n",
    "from sqlalchemy import create_engine\n",
    "\n",
    "from sklearn.neighbors import KNeighborsClassifier\n",
    "from sklearn.preprocessing import LabelEncoder\n",
    "from sklearn.model_selection import train_test_split\n",
    "\n",
    "import matplotlib.pyplot as plt"
   ]
  },
  {
   "cell_type": "code",
   "execution_count": 2,
   "metadata": {},
   "outputs": [],
   "source": [
    "# Connect to the SQLite database\n",
    "database_name = \"data/CompanyData.sqlite\"\n",
    "engine = create_engine(f\"sqlite:///{database_name}\", echo=False)"
   ]
  },
  {
   "cell_type": "code",
   "execution_count": 3,
   "metadata": {},
   "outputs": [
    {
     "data": {
      "text/html": [
       "<div>\n",
       "<style scoped>\n",
       "    .dataframe tbody tr th:only-of-type {\n",
       "        vertical-align: middle;\n",
       "    }\n",
       "\n",
       "    .dataframe tbody tr th {\n",
       "        vertical-align: top;\n",
       "    }\n",
       "\n",
       "    .dataframe thead th {\n",
       "        text-align: right;\n",
       "    }\n",
       "</style>\n",
       "<table border=\"1\" class=\"dataframe\">\n",
       "  <thead>\n",
       "    <tr style=\"text-align: right;\">\n",
       "      <th></th>\n",
       "      <th>monthend_date</th>\n",
       "      <th>ticker</th>\n",
       "      <th>price</th>\n",
       "      <th>wealth_index</th>\n",
       "      <th>end_wealth_index</th>\n",
       "      <th>total_return</th>\n",
       "      <th>cash</th>\n",
       "      <th>st_debt</th>\n",
       "      <th>lt_debt</th>\n",
       "      <th>equity</th>\n",
       "      <th>...</th>\n",
       "      <th>ebit_ev</th>\n",
       "      <th>name</th>\n",
       "      <th>sector</th>\n",
       "      <th>quantile_total_return</th>\n",
       "      <th>price_1_month_ago</th>\n",
       "      <th>price_3_months_ago</th>\n",
       "      <th>price_12_months_ago</th>\n",
       "      <th>trailing_1_month_return</th>\n",
       "      <th>trailing_3_month_return</th>\n",
       "      <th>trailing_12_month_return</th>\n",
       "    </tr>\n",
       "  </thead>\n",
       "  <tbody>\n",
       "    <tr>\n",
       "      <th>0</th>\n",
       "      <td>2016-04-30</td>\n",
       "      <td>A</td>\n",
       "      <td>40.92</td>\n",
       "      <td>39.6930</td>\n",
       "      <td>44.5140</td>\n",
       "      <td>12.145718</td>\n",
       "      <td>1.931000e+09</td>\n",
       "      <td>80000000.0</td>\n",
       "      <td>1.653000e+09</td>\n",
       "      <td>4.045000e+09</td>\n",
       "      <td>...</td>\n",
       "      <td>0.041902</td>\n",
       "      <td>Agilent Technologies Inc</td>\n",
       "      <td>Health Care</td>\n",
       "      <td>1</td>\n",
       "      <td>39.85</td>\n",
       "      <td>37.65</td>\n",
       "      <td>41.37</td>\n",
       "      <td>2.685069</td>\n",
       "      <td>8.685259</td>\n",
       "      <td>-1.087745</td>\n",
       "    </tr>\n",
       "    <tr>\n",
       "      <th>1</th>\n",
       "      <td>2016-05-31</td>\n",
       "      <td>A</td>\n",
       "      <td>45.89</td>\n",
       "      <td>44.5140</td>\n",
       "      <td>43.1432</td>\n",
       "      <td>-3.079481</td>\n",
       "      <td>1.931000e+09</td>\n",
       "      <td>80000000.0</td>\n",
       "      <td>1.653000e+09</td>\n",
       "      <td>4.045000e+09</td>\n",
       "      <td>...</td>\n",
       "      <td>0.037304</td>\n",
       "      <td>Agilent Technologies Inc</td>\n",
       "      <td>Health Care</td>\n",
       "      <td>3</td>\n",
       "      <td>40.92</td>\n",
       "      <td>37.35</td>\n",
       "      <td>41.19</td>\n",
       "      <td>12.145650</td>\n",
       "      <td>22.864793</td>\n",
       "      <td>11.410537</td>\n",
       "    </tr>\n",
       "    <tr>\n",
       "      <th>2</th>\n",
       "      <td>2016-06-30</td>\n",
       "      <td>A</td>\n",
       "      <td>44.36</td>\n",
       "      <td>43.1432</td>\n",
       "      <td>46.7904</td>\n",
       "      <td>8.453708</td>\n",
       "      <td>2.139000e+09</td>\n",
       "      <td>235000000.0</td>\n",
       "      <td>1.654000e+09</td>\n",
       "      <td>4.162000e+09</td>\n",
       "      <td>...</td>\n",
       "      <td>0.040637</td>\n",
       "      <td>Agilent Technologies Inc</td>\n",
       "      <td>Health Care</td>\n",
       "      <td>1</td>\n",
       "      <td>45.89</td>\n",
       "      <td>39.85</td>\n",
       "      <td>38.58</td>\n",
       "      <td>-3.334060</td>\n",
       "      <td>11.317440</td>\n",
       "      <td>14.981856</td>\n",
       "    </tr>\n",
       "    <tr>\n",
       "      <th>3</th>\n",
       "      <td>2016-07-31</td>\n",
       "      <td>A</td>\n",
       "      <td>48.11</td>\n",
       "      <td>46.7904</td>\n",
       "      <td>45.6913</td>\n",
       "      <td>-2.348986</td>\n",
       "      <td>2.139000e+09</td>\n",
       "      <td>235000000.0</td>\n",
       "      <td>1.654000e+09</td>\n",
       "      <td>4.162000e+09</td>\n",
       "      <td>...</td>\n",
       "      <td>0.037419</td>\n",
       "      <td>Agilent Technologies Inc</td>\n",
       "      <td>Health Care</td>\n",
       "      <td>3</td>\n",
       "      <td>44.36</td>\n",
       "      <td>40.92</td>\n",
       "      <td>40.95</td>\n",
       "      <td>8.453562</td>\n",
       "      <td>17.570870</td>\n",
       "      <td>17.484737</td>\n",
       "    </tr>\n",
       "    <tr>\n",
       "      <th>4</th>\n",
       "      <td>2016-08-31</td>\n",
       "      <td>A</td>\n",
       "      <td>46.98</td>\n",
       "      <td>45.6913</td>\n",
       "      <td>45.9121</td>\n",
       "      <td>0.483243</td>\n",
       "      <td>2.139000e+09</td>\n",
       "      <td>235000000.0</td>\n",
       "      <td>1.654000e+09</td>\n",
       "      <td>4.162000e+09</td>\n",
       "      <td>...</td>\n",
       "      <td>0.038333</td>\n",
       "      <td>Agilent Technologies Inc</td>\n",
       "      <td>Health Care</td>\n",
       "      <td>2</td>\n",
       "      <td>48.11</td>\n",
       "      <td>45.89</td>\n",
       "      <td>36.31</td>\n",
       "      <td>-2.348784</td>\n",
       "      <td>2.375245</td>\n",
       "      <td>29.385844</td>\n",
       "    </tr>\n",
       "  </tbody>\n",
       "</table>\n",
       "<p>5 rows × 39 columns</p>\n",
       "</div>"
      ],
      "text/plain": [
       "  monthend_date ticker  price  wealth_index  end_wealth_index  total_return  \\\n",
       "0    2016-04-30      A  40.92       39.6930           44.5140     12.145718   \n",
       "1    2016-05-31      A  45.89       44.5140           43.1432     -3.079481   \n",
       "2    2016-06-30      A  44.36       43.1432           46.7904      8.453708   \n",
       "3    2016-07-31      A  48.11       46.7904           45.6913     -2.348986   \n",
       "4    2016-08-31      A  46.98       45.6913           45.9121      0.483243   \n",
       "\n",
       "           cash      st_debt       lt_debt        equity  ...   ebit_ev  \\\n",
       "0  1.931000e+09   80000000.0  1.653000e+09  4.045000e+09  ...  0.041902   \n",
       "1  1.931000e+09   80000000.0  1.653000e+09  4.045000e+09  ...  0.037304   \n",
       "2  2.139000e+09  235000000.0  1.654000e+09  4.162000e+09  ...  0.040637   \n",
       "3  2.139000e+09  235000000.0  1.654000e+09  4.162000e+09  ...  0.037419   \n",
       "4  2.139000e+09  235000000.0  1.654000e+09  4.162000e+09  ...  0.038333   \n",
       "\n",
       "                       name       sector  quantile_total_return  \\\n",
       "0  Agilent Technologies Inc  Health Care                      1   \n",
       "1  Agilent Technologies Inc  Health Care                      3   \n",
       "2  Agilent Technologies Inc  Health Care                      1   \n",
       "3  Agilent Technologies Inc  Health Care                      3   \n",
       "4  Agilent Technologies Inc  Health Care                      2   \n",
       "\n",
       "   price_1_month_ago  price_3_months_ago price_12_months_ago  \\\n",
       "0              39.85               37.65               41.37   \n",
       "1              40.92               37.35               41.19   \n",
       "2              45.89               39.85               38.58   \n",
       "3              44.36               40.92               40.95   \n",
       "4              48.11               45.89               36.31   \n",
       "\n",
       "   trailing_1_month_return  trailing_3_month_return  trailing_12_month_return  \n",
       "0                 2.685069                 8.685259                 -1.087745  \n",
       "1                12.145650                22.864793                 11.410537  \n",
       "2                -3.334060                11.317440                 14.981856  \n",
       "3                 8.453562                17.570870                 17.484737  \n",
       "4                -2.348784                 2.375245                 29.385844  \n",
       "\n",
       "[5 rows x 39 columns]"
      ]
     },
     "execution_count": 3,
     "metadata": {},
     "output_type": "execute_result"
    }
   ],
   "source": [
    "# Load the Master file from the database\n",
    "master_df = pd.read_sql_query(\"SELECT * FROM MasterData_ML\", engine)\n",
    "master_df.dropna(inplace=True)\n",
    "master_df.head()"
   ]
  },
  {
   "cell_type": "code",
   "execution_count": 4,
   "metadata": {},
   "outputs": [],
   "source": [
    "# Encode the sector names\n",
    "y = master_df[\"sector\"]\n",
    "label_encoder = LabelEncoder()\n",
    "label_encoder.fit(y)\n",
    "encoded_y = label_encoder.transform(y)"
   ]
  },
  {
   "cell_type": "code",
   "execution_count": 5,
   "metadata": {},
   "outputs": [
    {
     "data": {
      "text/html": [
       "<div>\n",
       "<style scoped>\n",
       "    .dataframe tbody tr th:only-of-type {\n",
       "        vertical-align: middle;\n",
       "    }\n",
       "\n",
       "    .dataframe tbody tr th {\n",
       "        vertical-align: top;\n",
       "    }\n",
       "\n",
       "    .dataframe thead th {\n",
       "        text-align: right;\n",
       "    }\n",
       "</style>\n",
       "<table border=\"1\" class=\"dataframe\">\n",
       "  <thead>\n",
       "    <tr style=\"text-align: right;\">\n",
       "      <th></th>\n",
       "      <th>earnings_yield</th>\n",
       "      <th>book_yield</th>\n",
       "      <th>revenue_ev</th>\n",
       "      <th>ebit_ev</th>\n",
       "      <th>net_debt_capital</th>\n",
       "    </tr>\n",
       "  </thead>\n",
       "  <tbody>\n",
       "    <tr>\n",
       "      <th>0</th>\n",
       "      <td>3.347996</td>\n",
       "      <td>29.720034</td>\n",
       "      <td>0.301215</td>\n",
       "      <td>0.041902</td>\n",
       "      <td>-5.146868</td>\n",
       "    </tr>\n",
       "    <tr>\n",
       "      <th>1</th>\n",
       "      <td>2.985400</td>\n",
       "      <td>26.501281</td>\n",
       "      <td>0.268164</td>\n",
       "      <td>0.037304</td>\n",
       "      <td>-5.146868</td>\n",
       "    </tr>\n",
       "    <tr>\n",
       "      <th>2</th>\n",
       "      <td>3.133454</td>\n",
       "      <td>28.369886</td>\n",
       "      <td>0.284040</td>\n",
       "      <td>0.040637</td>\n",
       "      <td>-6.390593</td>\n",
       "    </tr>\n",
       "    <tr>\n",
       "      <th>3</th>\n",
       "      <td>2.889212</td>\n",
       "      <td>26.158556</td>\n",
       "      <td>0.261547</td>\n",
       "      <td>0.037419</td>\n",
       "      <td>-6.390593</td>\n",
       "    </tr>\n",
       "    <tr>\n",
       "      <th>4</th>\n",
       "      <td>2.958706</td>\n",
       "      <td>26.787742</td>\n",
       "      <td>0.267941</td>\n",
       "      <td>0.038333</td>\n",
       "      <td>-6.390593</td>\n",
       "    </tr>\n",
       "  </tbody>\n",
       "</table>\n",
       "</div>"
      ],
      "text/plain": [
       "   earnings_yield  book_yield  revenue_ev   ebit_ev  net_debt_capital\n",
       "0        3.347996   29.720034    0.301215  0.041902         -5.146868\n",
       "1        2.985400   26.501281    0.268164  0.037304         -5.146868\n",
       "2        3.133454   28.369886    0.284040  0.040637         -6.390593\n",
       "3        2.889212   26.158556    0.261547  0.037419         -6.390593\n",
       "4        2.958706   26.787742    0.267941  0.038333         -6.390593"
      ]
     },
     "execution_count": 5,
     "metadata": {},
     "output_type": "execute_result"
    }
   ],
   "source": [
    "# Select the columns of interest\n",
    "cols = [\"earnings_yield\",\"book_yield\",\"revenue_ev\",\"ebit_ev\",\"net_debt_capital\"]\n",
    "X = master_df[cols]\n",
    "X.head()"
   ]
  },
  {
   "cell_type": "code",
   "execution_count": 12,
   "metadata": {},
   "outputs": [
    {
     "name": "stdout",
     "output_type": "stream",
     "text": [
      "487\n"
     ]
    }
   ],
   "source": [
    "# Split the data by ticker symbol\n",
    "tickers = master_df['ticker'].unique()\n",
    "ticker_train, tickers_test = train_test_split(tickers)\n"
   ]
  },
  {
   "cell_type": "code",
   "execution_count": 6,
   "metadata": {},
   "outputs": [],
   "source": [
    "# Split the data into train & test\n",
    "X_train, X_test, y_train, y_test = train_test_split(X, encoded_y, random_state=42)"
   ]
  },
  {
   "cell_type": "code",
   "execution_count": 7,
   "metadata": {},
   "outputs": [
    {
     "name": "stdout",
     "output_type": "stream",
     "text": [
      "k: 1, Train/Test Score: 1.000/0.762\n",
      "k: 3, Train/Test Score: 0.855/0.650\n",
      "k: 5, Train/Test Score: 0.768/0.608\n",
      "k: 7, Train/Test Score: 0.712/0.586\n",
      "k: 9, Train/Test Score: 0.671/0.576\n",
      "k: 11, Train/Test Score: 0.645/0.556\n",
      "k: 13, Train/Test Score: 0.625/0.544\n",
      "k: 15, Train/Test Score: 0.610/0.534\n",
      "k: 17, Train/Test Score: 0.596/0.524\n",
      "k: 19, Train/Test Score: 0.584/0.518\n"
     ]
    },
    {
     "data": {
      "image/png": "[encoded data removed]",
      "text/plain": [
       "<Figure size 432x288 with 1 Axes>"
      ]
     },
     "metadata": {
      "needs_background": "light"
     },
     "output_type": "display_data"
    }
   ],
   "source": [
    "# Loop through different k values to see which has the highest accuracy\n",
    "# Note: We only use odd numbers because we don't want any ties\n",
    "train_scores = []\n",
    "test_scores = []\n",
    "n_runs = 20\n",
    "for k in range(1, n_runs, 2):\n",
    "    knn = KNeighborsClassifier(n_neighbors=k)\n",
    "    knn.fit(X_train, y_train)\n",
    "    train_score = knn.score(X_train, y_train)\n",
    "    test_score = knn.score(X_test, y_test)\n",
    "    train_scores.append(train_score)\n",
    "    test_scores.append(test_score)\n",
    "    print(f\"k: {k}, Train/Test Score: {train_score:.3f}/{test_score:.3f}\")\n",
    "    \n",
    "    \n",
    "plt.plot(range(1, n_runs, 2), train_scores, marker='o')\n",
    "plt.plot(range(1, n_runs, 2), test_scores, marker=\"x\")\n",
    "plt.xlabel(\"k neighbors\")\n",
    "plt.ylabel(\"Testing accuracy Score\")\n",
    "plt.show()"
   ]
  },
  {
   "cell_type": "code",
   "execution_count": 8,
   "metadata": {},
   "outputs": [
    {
     "name": "stdout",
     "output_type": "stream",
     "text": [
      "k=1 Test Acc: 0.762\n"
     ]
    }
   ],
   "source": [
    "# Note that k: 1 seems to be the best choice for this dataset\n",
    "knn = KNeighborsClassifier(n_neighbors=1)\n",
    "knn.fit(X_train, y_train)\n",
    "print('k=1 Test Acc: %.3f' % knn.score(X_test, y_test))"
   ]
  }
 ],
 "metadata": {
  "kernelspec": {
   "display_name": "Python 3",
   "language": "python",
   "name": "python3"
  },
  "language_info": {
   "codemirror_mode": {
    "name": "ipython",
    "version": 3
   },
   "file_extension": ".py",
   "mimetype": "text/x-python",
   "name": "python",
   "nbconvert_exporter": "python",
   "pygments_lexer": "ipython3",
   "version": "3.7.3"
  },
  "varInspector": {
   "cols": {
    "lenName": 16,
    "lenType": 16,
    "lenVar": 40
   },
   "kernels_config": {
    "python": {
     "delete_cmd_postfix": "",
     "delete_cmd_prefix": "del ",
     "library": "var_list.py",
     "varRefreshCmd": "print(var_dic_list())"
    },
    "r": {
     "delete_cmd_postfix": ") ",
     "delete_cmd_prefix": "rm(",
     "library": "var_list.r",
     "varRefreshCmd": "cat(var_dic_list()) "
    }
   },
   "types_to_exclude": [
    "module",
    "function",
    "builtin_function_or_method",
    "instance",
    "_Feature"
   ],
   "window_display": false
  }
 },
 "nbformat": 4,
 "nbformat_minor": 2
}
